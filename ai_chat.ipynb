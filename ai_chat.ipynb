{
 "cells": [
  {
   "cell_type": "code",
   "execution_count": 1,
   "metadata": {},
   "outputs": [],
   "source": [
    "import os\n",
    "import openai\n",
    "import copy\n",
    "\n",
    "from langchain.embeddings import OpenAIEmbeddings\n",
    "from langchain.chat_models import ChatOpenAI\n",
    "\n",
    "\n",
    "embeddings = OpenAIEmbeddings()\n",
    "llm_name = \"gpt-3.5-turbo\"\n",
    "llm = ChatOpenAI(model_name = llm_name, temperature = 0)"
   ]
  },
  {
   "cell_type": "code",
   "execution_count": 2,
   "metadata": {},
   "outputs": [],
   "source": [
    "from langchain.document_loaders import UnstructuredWordDocumentLoader\n",
    "from langchain.document_loaders import DirectoryLoader\n",
    "\n",
    "recursive_loader = DirectoryLoader(path = \"docx_docs\", \n",
    "                                   loader_cls = UnstructuredWordDocumentLoader,\n",
    "                                   loader_kwargs = {'mode' : \"elements\", 'strategy': \"fast\"},\n",
    "                                   recursive = True)\n",
    "\n",
    "all_docs = recursive_loader.load()"
   ]
  },
  {
   "cell_type": "code",
   "execution_count": 46,
   "metadata": {},
   "outputs": [],
   "source": [
    "# Remove undeeded metadata\n",
    "\n",
    "keys_to_delete = ['source', 'file_directory', 'last_modified', 'filetype', 'primary', 'text_as_html', 'emphasized_text_tags', 'emphasized_text_contents']\n",
    "\n",
    "for doc in all_docs:\n",
    "    for key in keys_to_delete:\n",
    "        if key in doc.metadata.keys():\n",
    "            del doc.metadata[key]\n",
    "    # if 'emphasized_text_contents' in doc.metadata.keys():\n",
    "    #     doc.metadata['category'] = 'Bolded Title'\n",
    "    #     del doc.metadata['emphasized_text_contents']\n"
   ]
  },
  {
   "cell_type": "code",
   "execution_count": 47,
   "metadata": {},
   "outputs": [],
   "source": [
    "# Document category rework\n",
    "\n",
    "# Removing unneeded documents\n",
    "categories_to_remove = ['PageBreak', 'ListItem', 'Footer', 'Table']\n",
    "all_docs = [doc for doc in all_docs if doc.metadata['category'] not in categories_to_remove]\n",
    "\n",
    "# TODO: Think of what to do with headers\n",
    "\n",
    "# TODO: Titles\n",
    "\n",
    "# TODO: UncategorizedText - Remove short\n",
    "\n",
    "# TODO: Table - Extract patent data, remove for artices and lectures\n",
    "\n"
   ]
  },
  {
   "cell_type": "code",
   "execution_count": 48,
   "metadata": {},
   "outputs": [
    {
     "data": {
      "text/plain": [
       "(array([  3.,   0.,   0.,   0.,   0.,   5.,   0.,   0.,   0.,   0.,   0.,\n",
       "          2.,   0.,   0.,   0.,   0.,   0.,   2.,   0.,   0.,   0.,   0.,\n",
       "          0.,   1.,   0.,   0.,   0.,   0.,   0.,  12.,   0.,   0.,   0.,\n",
       "          0.,   0.,  29.,   0.,   0.,   0.,   0.,   0.,  15.,   0.,   0.,\n",
       "          0.,   0.,   0.,  99.,   0.,   0.,   0.,   0.,  12.,   0.,   0.,\n",
       "          0.,   0.,   0.,  80.,   0.,   0.,   0.,   0.,   0., 158.,   0.,\n",
       "          0.,   0.,   0.,   0.,  36.,   0.,   0.,   0.,   0.,   0., 152.,\n",
       "          0.,   0.,   0.,   0.,   0., 123.,   0.,   0.,   0.,   0.,   0.,\n",
       "         88.,   0.,   0.,   0.,   0.,   0.,  34.,   0.,   0.,   0.,   0.,\n",
       "         35.]),\n",
       " array([ 2.  ,  2.17,  2.34,  2.51,  2.68,  2.85,  3.02,  3.19,  3.36,\n",
       "         3.53,  3.7 ,  3.87,  4.04,  4.21,  4.38,  4.55,  4.72,  4.89,\n",
       "         5.06,  5.23,  5.4 ,  5.57,  5.74,  5.91,  6.08,  6.25,  6.42,\n",
       "         6.59,  6.76,  6.93,  7.1 ,  7.27,  7.44,  7.61,  7.78,  7.95,\n",
       "         8.12,  8.29,  8.46,  8.63,  8.8 ,  8.97,  9.14,  9.31,  9.48,\n",
       "         9.65,  9.82,  9.99, 10.16, 10.33, 10.5 , 10.67, 10.84, 11.01,\n",
       "        11.18, 11.35, 11.52, 11.69, 11.86, 12.03, 12.2 , 12.37, 12.54,\n",
       "        12.71, 12.88, 13.05, 13.22, 13.39, 13.56, 13.73, 13.9 , 14.07,\n",
       "        14.24, 14.41, 14.58, 14.75, 14.92, 15.09, 15.26, 15.43, 15.6 ,\n",
       "        15.77, 15.94, 16.11, 16.28, 16.45, 16.62, 16.79, 16.96, 17.13,\n",
       "        17.3 , 17.47, 17.64, 17.81, 17.98, 18.15, 18.32, 18.49, 18.66,\n",
       "        18.83, 19.  ]),\n",
       " <BarContainer object of 100 artists>)"
      ]
     },
     "execution_count": 48,
     "metadata": {},
     "output_type": "execute_result"
    },
    {
     "data": {
      "image/png": "[encoded data removed]",
      "text/plain": [
       "<Figure size 640x480 with 1 Axes>"
      ]
     },
     "metadata": {},
     "output_type": "display_data"
    }
   ],
   "source": [
    "import matplotlib.pyplot as plt\n",
    "\n",
    "l = [len(d.page_content) for d in all_docs]\n",
    "plt.hist([ll for ll in l if ll < 20], bins=100)"
   ]
  },
  {
   "cell_type": "code",
   "execution_count": 49,
   "metadata": {},
   "outputs": [],
   "source": [
    "# Loader metadata analysis\n",
    "\n",
    "all = {}\n",
    "for doc in all_docs:\n",
    "    for key, value in doc.metadata.items():\n",
    "        if key not in all.keys():\n",
    "            all[key] = [value]\n",
    "        else:\n",
    "            all[key].append(value)"
   ]
  },
  {
   "cell_type": "code",
   "execution_count": 50,
   "metadata": {},
   "outputs": [
    {
     "name": "stdout",
     "output_type": "stream",
     "text": [
      "As the main requirement in carrying out my invention is to produce currents of an excessively-high potential, this object will be facilitated by using a primary current of very considerable frequency, since the electromotive force obtainable with a given length of conductor is proportionate to the frequency; but the frequency of the current is in a large measure arbitrary, for if the potential be sufficiently high and if the terminals of the coils be maintained at the proper altitudes the action described will take place, and a current will be transmitted through the elevated air strata, which will encounter little and possibly even less resistance than if conveyed through a copper wire of a practicable size. Accordingly the construction of the apparatus may be in many details greatly varied; but in order to enable any person skilled in the mechanical and electrical arts to utilize to advantage in the practical applications of my system the experience I have so far gained the following particulars of a model plant which has been long in use and which was constructed for the purpose of obtaining further data to be used in the carrying out of my invention on a large scale are given. The transmitting apparatus was in this case one of my electrical oscillators, which are transformers of a special type, now well known and characterized by the passage of oscillatory discharges of a condenser through the primary. The source G, forming one of the elements of the transmitter, was a condenser of a capacity of about four one-hundredths of a microfarad and was charged from a generator of alternating currents of fifty thousand volts pressure and discharged by means of a mechanically-operated break five thousand times per second through the primary C. The latter consisted of a single turn of stout stranded cable of inappreciable resistance and of an inductance of about eight thousand centimeters, the diameter of the loop being very nearly two hundred and forty-four centimeters. The total inductance of the primary circuit was approximately ten thousand centimeters, so that the primary circuit vibrated generally according to adjustment, from two hundred and thirty thousand to two hundred and fifty thousand times per second. The high-tension coil A in the form of a flat spiral was composed of fifty turns of heavily-insulated cable No. 8 wound in one single layer, the turns beginning close to the primary loop and ending near its center. The outer end of the secondary or high-tension coil A was connected to the ground, as illustrated, while the free end was led to a terminal placed in the rarefied air stratum through which the energy was to be transmitted, which was contained in an insulating-tube of a length of fifty feet or more, within which a barometric pressure varying from about one hundred and twenty to one hundred and fifty millimeters was maintained by means of a mechanical suction-pump. The receiving-transformer was similarly proportioned, the ratio of conversion being the reciprocal of that of the transmitter, and the primary high-tension coil A' was connected, as illustrated, with the end near the low-tension coil C' to the ground and with the free end to a wire or plate likewise placed in the rarefied air stratum and at the distance named from the transmitting-terminal. The primary and secondary circuits in the transmitting apparatus being carefully synchronized, an electromotive force from two to four million volts and more was obtainable at the terminals of the secondary coil A, the discharge passing freely through the attenuated air stratum maintained at the above barometric pressures, and it was easy under these conditions to transmit with fair economy considerable amounts of energy, such as are of industrial moment, to the receiving apparatus for supplying form the secondary coil C' lamps L or kindred devices. The results were particularly satisfactory when the primary coil or system A', with its secondary C', was carefully adjusted, so as to vibrate in synchronism with the transmitting coil or system A C. I have, however, found no difficulty in producing with apparatus of substantially the same design and construction electromotive forces exceeding three or four times those before mentioned and have ascertained that by their means current impulses can be transmitted through much-denser air strata. By the use of these I have also found it practicable to transmit notable amounts of energy through air strata not in direct contact with the transmitting and receiving terminals, but remote from them, the action of the impulses, in rendering conducting air of a density at which it normally behaves as an insulator, extending, as before remarked, to a considerable distance. The high electromotive force obtained at the terminals of coil or conductor A was, as will be seen, in the preceding instance, not so much due to a large ratio of transformation as to the joint effect of the capacities and inductances in the synchronized circuits, which effect is enhanced by a high frequency, and it will be obviously understood that if the latter be reduced a greater ratio of transformation should be resorted to, especially in cases in which it may be deemed of advantage to suppress as much as possible, and particularly in the transmitting-coil A, the rise of pressure due to the above effect and to obtain the necessary electromotive force solely by a large transformation ratio. While electromotive forces such as are produced by the apparatus just described may be sufficient for many purposes to which my system will or may be applied, I wish to state that I contemplate using in an industrial undertaking of this kind forces greatly in excess of these, and with my present knowledge and experience in this novel field I would estimate them to range from twenty to fifty million volts and possibly more. By the use of these much greater forces larger amount of energy may be conveyed through the atmosphere to remote places or regions, and the distance of transmission may be thus extended practically without limit. As to the elevation of the terminals D D' it is obvious that it will be determined by a number of things, as by the amount and quality of the work to be performed, by the local density and other conditions of the atmosphere, by the character of the surrounding country, and such considerations as may present themselves in individual instances. Thus if there be high mountains in the vicinity the terminals should be at a greater height, and generally they should always be, if practicable, at altitudes much greater than those of the highest objects near them in order to avoid as much as possible the loss by leakage. In some cases when small amounts of energy are required the high elevation of the terminals, and more particularly of the receiving-terminal D', may not be necessary, since, especially when the frequency of the currents is very high, a sufficient amount of energy may be collected at that terminal by electrostatic induction from the upper air strata, which are rendered conducting by active terminal of the transmitter or through which the currents from the same are conveyed. With reference to the facts which have been pointed out above it will be seen that the altitudes required for the transmission of considerable amounts of electrical energy in accordance with this method are such as are easily accessible and at which terminals can be safely maintained, as by the aid of captive balloons supplied continuously with gas from reservoirs and held in position securely by steel wires or by any other means, devices, or expedients, such as may be contrived and perfected by ingenious and skilled engineers. From my experiments and observations I conclude that with electromotive impulses not greatly exceeding fifteen or twenty million volts the energy of many thousands of horse-power may be transmitted over vast distances, measured by many hundreds and even thousands of miles, with terminals not more than thirty to thirty-five thousand feet above the level of the sea, and even this comparatively-small elevation will be required chiefly for reasons of economy, and, if desired, it may be considerably reduced, since by such means as have been described practically any potential that is desired may be obtained, the currents through the air strata may be rendered very small, whereby the loss in the transmission may be reduced. It will be understood that the transmitting as well as the receiving coils, transformers, or other apparatus may be in some cases movable—as, for example, when they are carried by vessels floating in the air or by ships at sea. In such a case, or generally, the connection of one of the terminals of the high-tension coil or coils to the ground may not be permanent, but may be intermittently or inductively established, and any such or similar modifications I shall consider as within the scope of my invention. While the description here given contemplates chiefly a method and system of energy transmission to a distance through the natural media for industrial purposes, the principles which I have herein disclosed and the apparatus which I have shown will obviously have many other valuable uses—as, for instance, when it is desired to transmit intelligible messages to great distances, or to illuminate upper strata of air, or to produce, designedly, any useful changes in the condition of the atmosphere, or to manufacture from the gases of the same products, as nitric acid, fertilizing compounds, or the like, by the action of such current impulses, for all of which and for many other valuable purposes they are eminently suitable, and I do not wish to limit myself in this respect. Obviously, also, certain features of my invention here disclosed will be useful as disconnected from the method itself—as, for example, in other systems of energy transmission, for whatever purpose they may be intended, the transmitting and receiving transformers arranged and connected as illustrated, the feature of a transmitting and receiving coil or conductor, both connected to the ground and to an elevated terminal and adjusted so as to vibrate in synchronism, the proportioning of such conductors or coils, as above specified, the feature of a receiving-transformer with its primary connected to earth and to an elevated terminal and having the operative devices in its secondary, and other features or particulars, such as have been described in this specification or will readily suggest themselves by a perusal of the same. I do not claim in this application a transformer for developing or converting currents of high potential in the form herewith shown and described and with the two coils connected together, as and for the purpose set forth, having made these improvement the subject of a patent granted to me November 2, 1897, No. 593,138, nor do I claim herein the apparatus employed in carrying out the method of this application when such apparatus is specially constructed and arranged for securing the particular object sought in the present invention, as these last-named features are made the subject of an application filed as a division of this application on February 19, 1900, Serial No. 5,780. \n",
      "{'filename': '78_PATENT 645,576 .docx', 'page_number': 2, 'category': 'NarrativeText', 'id': '162', 'title': 'SYSTEM OF TRANSMISSION OF ELECTRICAL ENERGY', 'date': '1900-03-20', 'type': 'patent', 'register_num': '645,576 '}\n"
     ]
    }
   ],
   "source": [
    "l = [len(d.page_content) for d in all_docs]\n",
    "max(l)\n",
    "l.index(max(l))\n",
    "print(all_docs[l.index(max(l))].page_content)\n",
    "print(all_docs[l.index(max(l))].metadata)"
   ]
  },
  {
   "cell_type": "code",
   "execution_count": 51,
   "metadata": {},
   "outputs": [
    {
     "name": "stdout",
     "output_type": "stream",
     "text": [
      "['filename', 'page_number', 'category', 'id', 'title', 'date', 'type', 'header_footer_type', 'register_num']\n",
      "[{'Title', 'Header', 'UncategorizedText', 'NarrativeText'}]\n"
     ]
    }
   ],
   "source": [
    "all_metadata_keys = list(all.keys())\n",
    "print(all_metadata_keys)\n",
    "possible_categories = set(all['category'])\n",
    "print([possible_categories])\n",
    "\n",
    "for doc in all_docs:\n",
    "    # if 'emphasized_text_contents' in doc.metadata.keys() and len(doc.metadata['emphasized_text_contents']) > 1:\n",
    "    if 'filename' in doc.metadata.keys() and doc.metadata['filename'] == 'Experiments with Alternate Currents of High Potential and High Frequency.docx':    \n",
    "        # print(doc.metadata['emphasized_text_contents'])\n",
    "        print(doc.metadata)\n"
   ]
  },
  {
   "cell_type": "code",
   "execution_count": 52,
   "metadata": {},
   "outputs": [],
   "source": [
    "# Metadata parsing\n",
    "\n",
    "import json\n",
    "\n",
    "metadata_dict = {}\n",
    "metadatas = json.load(open('metadata.json'))\n",
    "\n",
    "ascii_replace_dict = {'â€™': '’', 'â€œ': '“', 'â€': '”'}\n",
    "def replace_non_ascii(s):\n",
    "    for pair_k, pair_v in ascii_replace_dict.items():\n",
    "        s = s.replace(pair_k, pair_v)\n",
    "    return s\n",
    "\n",
    "for metadata in metadatas[2]['data']:\n",
    "    if metadata['id'] in ['228', '413']:\n",
    "        # These are duplicates, not needed\n",
    "        continue\n",
    "    key = ''.join(metadata['file_url'].split('/')[-1].rsplit('.', 1)[:-1])\n",
    "\n",
    "    # Repalce non-ascii characters in key\n",
    "    key = replace_non_ascii(key)\n",
    "    \n",
    "    # Make sure that there are no duplicate entries for the same document type\n",
    "    if (key in metadata_dict.keys() and metadata['type'] == metadata_dict[key]['type']):\n",
    "        print(key)\n",
    "        print(metadata['id'])\n",
    "    assert not (key in metadata_dict.keys() and metadata['type'] == metadata_dict[key]['type'])\n",
    "    metadata_dict[key] = {key: value for key, value in metadata.items() if value is not None}\n",
    "    \n",
    "    # Replace non-ascii characters in file url\n",
    "    del metadata_dict[key]['file_url']\n",
    "    for m_key, m_value in metadata_dict.items():\n",
    "        if m_value is None:\n",
    "            del metadata_dict[m_key]\n",
    "        \n"
   ]
  },
  {
   "cell_type": "code",
   "execution_count": 53,
   "metadata": {},
   "outputs": [],
   "source": [
    "# Adding metadata\n",
    "\n",
    "for doc in all_docs:\n",
    "    assert doc.metadata['filename'][:-5] in metadata_dict.keys()\n",
    "    doc.metadata.update(metadata_dict[doc.metadata['filename'][:-5]])"
   ]
  },
  {
   "cell_type": "code",
   "execution_count": 54,
   "metadata": {},
   "outputs": [],
   "source": [
    "# Vectorstore creation\n",
    "\n",
    "from langchain.vectorstores import Chroma\n",
    "\n",
    "vectorstore = Chroma.from_documents(\n",
    "    documents = all_docs,\n",
    "    embedding = embeddings,\n",
    "    persist_directory=\"./chroma_db\"\n",
    ")"
   ]
  },
  {
   "cell_type": "code",
   "execution_count": null,
   "metadata": {},
   "outputs": [],
   "source": [
    "# Vectorstore loading\n",
    "\n",
    "vectorstore = Chroma(persist_directory=\"./chroma_db\", embedding_function = embeddings)"
   ]
  },
  {
   "cell_type": "code",
   "execution_count": null,
   "metadata": {},
   "outputs": [],
   "source": [
    "from langchain.chains.query_constructor.base import AttributeInfo\n",
    "from langchain.retrievers.self_query.base import SelfQueryRetriever\n",
    "\n",
    "\n",
    "# TODO: add new metadata\n",
    "metadata_field_info = [\n",
    "    AttributeInfo(\n",
    "        name=\"document_name\",\n",
    "        description=\"Name of the source document\",\n",
    "        type=\"string\",\n",
    "    ),\n",
    "    AttributeInfo(\n",
    "        name=\"id\",\n",
    "        description=\"Document ID\",\n",
    "        type=\"string\",\n",
    "    ),\n",
    "    AttributeInfo(\n",
    "        name=\"title\",\n",
    "        description=\"Title of the document\",\n",
    "        type=\"string\",\n",
    "    ),\n",
    "    AttributeInfo(\n",
    "        name=\"date\",\n",
    "        description=\"When the document was created\",\n",
    "        type=\"string\",\n",
    "    ),\n",
    "    AttributeInfo(\n",
    "        name=\"register_num\",\n",
    "        description=\"Patent registration number\",\n",
    "        type=\"string\",\n",
    "    ),\n",
    "    AttributeInfo(\n",
    "        name=\"source\",\n",
    "        description=\"Source of the document\",\n",
    "        type=\"string\",\n",
    "    ),\n",
    "    AttributeInfo(\n",
    "        name=\"type\",\n",
    "        description=\"Type of the document - options are lecture, article, patent\",\n",
    "        type=\"string\",\n",
    "    )\n",
    "]\n",
    "\n",
    "document_content_description = \"Document content\"\n",
    "\n",
    "retriever = SelfQueryRetriever.from_llm(\n",
    "    llm = llm, \n",
    "    vectorstore = vectorstore,\n",
    "    document_contents = document_content_description,\n",
    "    metadata_field_info = metadata_field_info, \n",
    "    verbose=True\n",
    ")"
   ]
  },
  {
   "cell_type": "code",
   "execution_count": 55,
   "metadata": {},
   "outputs": [
    {
     "ename": "NameError",
     "evalue": "name 'retriever' is not defined",
     "output_type": "error",
     "traceback": [
      "\u001b[0;31m---------------------------------------------------------------------------\u001b[0m",
      "\u001b[0;31mNameError\u001b[0m                                 Traceback (most recent call last)",
      "Cell \u001b[0;32mIn[55], line 1\u001b[0m\n\u001b[0;32m----> 1\u001b[0m docs \u001b[39m=\u001b[39m retriever\u001b[39m.\u001b[39mget_relevant_documents(\u001b[39m\"\u001b[39m\u001b[39mWhat lectures did Nikola Tesla give\u001b[39m\u001b[39m\"\u001b[39m)\n",
      "\u001b[0;31mNameError\u001b[0m: name 'retriever' is not defined"
     ]
    }
   ],
   "source": [
    "docs = retriever.get_relevant_documents(\"What lectures did Nikola Tesla give\")"
   ]
  },
  {
   "cell_type": "code",
   "execution_count": null,
   "metadata": {},
   "outputs": [
    {
     "data": {
      "text/plain": [
       "['Experiments With Alternate Currents of High Potential and High Frequency (lecture)',\n",
       " '7 On Electricity (lecture)',\n",
       " 'Experiments With Alternating Currents of Very High Frequency and Their Application to Methods of Artificial Illumination (lecture)',\n",
       " '6 On Mechanical and Electrical Oscillators (lecture)']"
      ]
     },
     "execution_count": 167,
     "metadata": {},
     "output_type": "execute_result"
    }
   ],
   "source": [
    "[d.metadata['filename'] for d in docs]"
   ]
  },
  {
   "cell_type": "code",
   "execution_count": null,
   "metadata": {},
   "outputs": [],
   "source": [
    "# Basic Retriever example\n",
    "\n",
    "from langchain.chains import RetrievalQA\n",
    "\n",
    "question = \"How many poles shoul my electromotor have, and what should I do if I have the wrong number?\"\n",
    "qa_chain = RetrievalQA.from_chain_type(llm = llm, retriever = retriever)\n",
    "print(qa_chain({\"query\": question}))"
   ]
  },
  {
   "cell_type": "code",
   "execution_count": null,
   "metadata": {},
   "outputs": [
    {
     "name": "stdout",
     "output_type": "stream",
     "text": [
      "Question: Did Nikola Tesla teach about light?\n",
      "Answer: Yes, Nikola Tesla did discuss light in his lecture. He mentioned the electromagnetic theory of light and expressed his belief that electromagnetic waves, unless they had the frequency of true light waves, could not produce luminous effects. However, he believed that electrostatic waves could excite luminous radiation.\n",
      "Question: When did he give that lecture and where?\n",
      "Answer: Nikola Tesla gave the lecture discussing light at the Ellicot Club in Buffalo on January 12, 1897.\n"
     ]
    }
   ],
   "source": [
    "# Retriever with memory example\n",
    "\n",
    "from langchain.memory import ConversationBufferMemory\n",
    "from langchain.chains import ConversationalRetrievalChain\n",
    "\n",
    "memory = ConversationBufferMemory(memory_key = \"chat_history\", return_messages = True)\n",
    "retriever = vectorstore.as_retriever()\n",
    "qa = ConversationalRetrievalChain.from_llm(llm = llm, retriever = retriever, memory = memory)\n",
    "question = input()\n",
    "print(f\"Question: {question}\")\n",
    "print(f\"Answer: {qa({'question': question})['answer']}\")\n",
    "question = input()\n",
    "print(f\"Question: {question}\")\n",
    "print(f\"Answer: {qa({'question': question})['answer']}\")"
   ]
  },
  {
   "cell_type": "code",
   "execution_count": null,
   "metadata": {},
   "outputs": [],
   "source": []
  }
 ],
 "metadata": {
  "kernelspec": {
   "display_name": "base",
   "language": "python",
   "name": "python3"
  },
  "language_info": {
   "codemirror_mode": {
    "name": "ipython",
    "version": 3
   },
   "file_extension": ".py",
   "mimetype": "text/x-python",
   "name": "python",
   "nbconvert_exporter": "python",
   "pygments_lexer": "ipython3",
   "version": "3.10.9"
  },
  "orig_nbformat": 4
 },
 "nbformat": 4,
 "nbformat_minor": 2
}
