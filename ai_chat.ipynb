{
 "cells": [
  {
   "cell_type": "code",
   "execution_count": 1,
   "metadata": {},
   "outputs": [],
   "source": [
    "import os\n",
    "import openai\n",
    "import copy\n",
    "\n",
    "from langchain.embeddings import OpenAIEmbeddings\n",
    "from langchain.chat_models import ChatOpenAI\n",
    "\n",
    "\n",
    "embeddings = OpenAIEmbeddings()\n",
    "llm_name = \"gpt-3.5-turbo\"\n",
    "llm = ChatOpenAI(model_name = llm_name, temperature = 0)"
   ]
  },
  {
   "cell_type": "code",
   "execution_count": 2,
   "metadata": {},
   "outputs": [],
   "source": [
    "from langchain.document_loaders import UnstructuredWordDocumentLoader\n",
    "from langchain.document_loaders import DirectoryLoader\n",
    "\n",
    "recursive_loader = DirectoryLoader(path = \"docx_docs\", \n",
    "                                   loader_cls = UnstructuredWordDocumentLoader,\n",
    "                                   loader_kwargs = {'mode' : \"elements\", 'strategy': \"fast\"},\n",
    "                                   recursive = True)\n",
    "\n",
    "all_docs = recursive_loader.load()"
   ]
  },
  {
   "cell_type": "code",
   "execution_count": 46,
   "metadata": {},
   "outputs": [],
   "source": [
    "# Remove undeeded metadata\n",
    "\n",
    "keys_to_delete = ['source', 'file_directory', 'last_modified', 'filetype', 'primary', 'text_as_html', 'emphasized_text_tags', 'emphasized_text_contents']\n",
    "\n",
    "for doc in all_docs:\n",
    "    for key in keys_to_delete:\n",
    "        if key in doc.metadata.keys():\n",
    "            del doc.metadata[key]\n",
    "    # if 'emphasized_text_contents' in doc.metadata.keys():\n",
    "    #     doc.metadata['category'] = 'Bolded Title'\n",
    "    #     del doc.metadata['emphasized_text_contents']\n"
   ]
  },
  {
   "cell_type": "code",
   "execution_count": 47,
   "metadata": {},
   "outputs": [],
   "source": [
    "# Document category rework\n",
    "\n",
    "# Removing unneeded documents\n",
    "categories_to_remove = ['PageBreak', 'ListItem', 'Footer', 'Table']\n",
    "all_docs = [doc for doc in all_docs if doc.metadata['category'] not in categories_to_remove]\n",
    "\n",
    "# TODO: Think of what to do with headers\n",
    "\n",
    "# TODO: Titles\n",
    "\n",
    "# TODO: UncategorizedText - Remove short\n",
    "\n",
    "# TODO: Table - Extract patent data, remove for artices and lectures\n",
    "\n"
   ]
  },
  {
   "cell_type": "code",
   "execution_count": 48,
   "metadata": {},
   "outputs": [
    {
     "data": {
      "text/plain": [
       "(array([  3.,   0.,   0.,   0.,   0.,   5.,   0.,   0.,   0.,   0.,   0.,\n",
       "          2.,   0.,   0.,   0.,   0.,   0.,   2.,   0.,   0.,   0.,   0.,\n",
       "          0.,   1.,   0.,   0.,   0.,   0.,   0.,  12.,   0.,   0.,   0.,\n",
       "          0.,   0.,  29.,   0.,   0.,   0.,   0.,   0.,  15.,   0.,   0.,\n",
       "          0.,   0.,   0.,  99.,   0.,   0.,   0.,   0.,  12.,   0.,   0.,\n",
       "          0.,   0.,   0.,  80.,   0.,   0.,   0.,   0.,   0., 158.,   0.,\n",
       "          0.,   0.,   0.,   0.,  36.,   0.,   0.,   0.,   0.,   0., 152.,\n",
       "          0.,   0.,   0.,   0.,   0., 123.,   0.,   0.,   0.,   0.,   0.,\n",
       "         88.,   0.,   0.,   0.,   0.,   0.,  34.,   0.,   0.,   0.,   0.,\n",
       "         35.]),\n",
       " array([ 2.  ,  2.17,  2.34,  2.51,  2.68,  2.85,  3.02,  3.19,  3.36,\n",
       "         3.53,  3.7 ,  3.87,  4.04,  4.21,  4.38,  4.55,  4.72,  4.89,\n",
       "         5.06,  5.23,  5.4 ,  5.57,  5.74,  5.91,  6.08,  6.25,  6.42,\n",
       "         6.59,  6.76,  6.93,  7.1 ,  7.27,  7.44,  7.61,  7.78,  7.95,\n",
       "         8.12,  8.29,  8.46,  8.63,  8.8 ,  8.97,  9.14,  9.31,  9.48,\n",
       "         9.65,  9.82,  9.99, 10.16, 10.33, 10.5 , 10.67, 10.84, 11.01,\n",
       "        11.18, 11.35, 11.52, 11.69, 11.86, 12.03, 12.2 , 12.37, 12.54,\n",
       "        12.71, 12.88, 13.05, 13.22, 13.39, 13.56, 13.73, 13.9 , 14.07,\n",
       "        14.24, 14.41, 14.58, 14.75, 14.92, 15.09, 15.26, 15.43, 15.6 ,\n",
       "        15.77, 15.94, 16.11, 16.28, 16.45, 16.62, 16.79, 16.96, 17.13,\n",
       "        17.3 , 17.47, 17.64, 17.81, 17.98, 18.15, 18.32, 18.49, 18.66,\n",
       "        18.83, 19.  ]),\n",
       " <BarContainer object of 100 artists>)"
      ]
     },
     "execution_count": 48,
     "metadata": {},
     "output_type": "execute_result"
    },
    {
     "data": {
      "image/png": "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",
      "text/plain": [
       "<Figure size 640x480 with 1 Axes>"
      ]
     },
     "metadata": {},
     "output_type": "display_data"
    }
   ],
   "source": [
    "import matplotlib.pyplot as plt\n",
    "\n",
    "l = [len(d.page_content) for d in all_docs]\n",
    "plt.hist([ll for ll in l if ll < 20], bins=100)"
   ]
  },
  {
   "cell_type": "code",
   "execution_count": 49,
   "metadata": {},
   "outputs": [],
   "source": [
    "# Loader metadata analysis\n",
    "\n",
    "all = {}\n",
    "for doc in all_docs:\n",
    "    for key, value in doc.metadata.items():\n",
    "        if key not in all.keys():\n",
    "            all[key] = [value]\n",
    "        else:\n",
    "            all[key].append(value)"
   ]
  },
  {
   "cell_type": "code",
   "execution_count": 50,
   "metadata": {},
   "outputs": [
    {
     "name": "stdout",
     "output_type": "stream",
     "text": [
      "As the main requirement in carrying out my invention is to produce currents of an excessively-high potential, this object will be facilitated by using a primary current of very considerable frequency, since the electromotive force obtainable with a given length of conductor is proportionate to the frequency; but the frequency of the current is in a large measure arbitrary, for if the potential be sufficiently high and if the terminals of the coils be maintained at the proper altitudes the action described will take place, and a current will be transmitted through the elevated air strata, which will encounter little and possibly even less resistance than if conveyed through a copper wire of a practicable size. Accordingly the construction of the apparatus may be in many details greatly varied; but in order to enable any person skilled in the mechanical and electrical arts to utilize to advantage in the practical applications of my system the experience I have so far gained the following particulars of a model plant which has been long in use and which was constructed for the purpose of obtaining further data to be used in the carrying out of my invention on a large scale are given. The transmitting apparatus was in this case one of my electrical oscillators, which are transformers of a special type, now well known and characterized by the passage of oscillatory discharges of a condenser through the primary. The source G, forming one of the elements of the transmitter, was a condenser of a capacity of about four one-hundredths of a microfarad and was charged from a generator of alternating currents of fifty thousand volts pressure and discharged by means of a mechanically-operated break five thousand times per second through the primary C. The latter consisted of a single turn of stout stranded cable of inappreciable resistance and of an inductance of about eight thousand centimeters, the diameter of the loop being very nearly two hundred and forty-four centimeters. The total inductance of the primary circuit was approximately ten thousand centimeters, so that the primary circuit vibrated generally according to adjustment, from two hundred and thirty thousand to two hundred and fifty thousand times per second. The high-tension coil A in the form of a flat spiral was composed of fifty turns of heavily-insulated cable No. 8 wound in one single layer, the turns beginning close to the primary loop and ending near its center. The outer end of the secondary or high-tension coil A was connected to the ground, as illustrated, while the free end was led to a terminal placed in the rarefied air stratum through which the energy was to be transmitted, which was contained in an insulating-tube of a length of fifty feet or more, within which a barometric pressure varying from about one hundred and twenty to one hundred and fifty millimeters was maintained by means of a mechanical suction-pump. The receiving-transformer was similarly proportioned, the ratio of conversion being the reciprocal of that of the transmitter, and the primary high-tension coil A' was connected, as illustrated, with the end near the low-tension coil C' to the ground and with the free end to a wire or plate likewise placed in the rarefied air stratum and at the distance named from the transmitting-terminal. The primary and secondary circuits in the transmitting apparatus being carefully synchronized, an electromotive force from two to four million volts and more was obtainable at the terminals of the secondary coil A, the discharge passing freely through the attenuated air stratum maintained at the above barometric pressures, and it was easy under these conditions to transmit with fair economy considerable amounts of energy, such as are of industrial moment, to the receiving apparatus for supplying form the secondary coil C' lamps L or kindred devices. The results were particularly satisfactory when the primary coil or system A', with its secondary C', was carefully adjusted, so as to vibrate in synchronism with the transmitting coil or system A C. I have, however, found no difficulty in producing with apparatus of substantially the same design and construction electromotive forces exceeding three or four times those before mentioned and have ascertained that by their means current impulses can be transmitted through much-denser air strata. By the use of these I have also found it practicable to transmit notable amounts of energy through air strata not in direct contact with the transmitting and receiving terminals, but remote from them, the action of the impulses, in rendering conducting air of a density at which it normally behaves as an insulator, extending, as before remarked, to a considerable distance. The high electromotive force obtained at the terminals of coil or conductor A was, as will be seen, in the preceding instance, not so much due to a large ratio of transformation as to the joint effect of the capacities and inductances in the synchronized circuits, which effect is enhanced by a high frequency, and it will be obviously understood that if the latter be reduced a greater ratio of transformation should be resorted to, especially in cases in which it may be deemed of advantage to suppress as much as possible, and particularly in the transmitting-coil A, the rise of pressure due to the above effect and to obtain the necessary electromotive force solely by a large transformation ratio. While electromotive forces such as are produced by the apparatus just described may be sufficient for many purposes to which my system will or may be applied, I wish to state that I contemplate using in an industrial undertaking of this kind forces greatly in excess of these, and with my present knowledge and experience in this novel field I would estimate them to range from twenty to fifty million volts and possibly more. By the use of these much greater forces larger amount of energy may be conveyed through the atmosphere to remote places or regions, and the distance of transmission may be thus extended practically without limit. As to the elevation of the terminals D D' it is obvious that it will be determined by a number of things, as by the amount and quality of the work to be performed, by the local density and other conditions of the atmosphere, by the character of the surrounding country, and such considerations as may present themselves in individual instances. Thus if there be high mountains in the vicinity the terminals should be at a greater height, and generally they should always be, if practicable, at altitudes much greater than those of the highest objects near them in order to avoid as much as possible the loss by leakage. In some cases when small amounts of energy are required the high elevation of the terminals, and more particularly of the receiving-terminal D', may not be necessary, since, especially when the frequency of the currents is very high, a sufficient amount of energy may be collected at that terminal by electrostatic induction from the upper air strata, which are rendered conducting by active terminal of the transmitter or through which the currents from the same are conveyed. With reference to the facts which have been pointed out above it will be seen that the altitudes required for the transmission of considerable amounts of electrical energy in accordance with this method are such as are easily accessible and at which terminals can be safely maintained, as by the aid of captive balloons supplied continuously with gas from reservoirs and held in position securely by steel wires or by any other means, devices, or expedients, such as may be contrived and perfected by ingenious and skilled engineers. From my experiments and observations I conclude that with electromotive impulses not greatly exceeding fifteen or twenty million volts the energy of many thousands of horse-power may be transmitted over vast distances, measured by many hundreds and even thousands of miles, with terminals not more than thirty to thirty-five thousand feet above the level of the sea, and even this comparatively-small elevation will be required chiefly for reasons of economy, and, if desired, it may be considerably reduced, since by such means as have been described practically any potential that is desired may be obtained, the currents through the air strata may be rendered very small, whereby the loss in the transmission may be reduced. It will be understood that the transmitting as well as the receiving coils, transformers, or other apparatus may be in some cases movable—as, for example, when they are carried by vessels floating in the air or by ships at sea. In such a case, or generally, the connection of one of the terminals of the high-tension coil or coils to the ground may not be permanent, but may be intermittently or inductively established, and any such or similar modifications I shall consider as within the scope of my invention. While the description here given contemplates chiefly a method and system of energy transmission to a distance through the natural media for industrial purposes, the principles which I have herein disclosed and the apparatus which I have shown will obviously have many other valuable uses—as, for instance, when it is desired to transmit intelligible messages to great distances, or to illuminate upper strata of air, or to produce, designedly, any useful changes in the condition of the atmosphere, or to manufacture from the gases of the same products, as nitric acid, fertilizing compounds, or the like, by the action of such current impulses, for all of which and for many other valuable purposes they are eminently suitable, and I do not wish to limit myself in this respect. Obviously, also, certain features of my invention here disclosed will be useful as disconnected from the method itself—as, for example, in other systems of energy transmission, for whatever purpose they may be intended, the transmitting and receiving transformers arranged and connected as illustrated, the feature of a transmitting and receiving coil or conductor, both connected to the ground and to an elevated terminal and adjusted so as to vibrate in synchronism, the proportioning of such conductors or coils, as above specified, the feature of a receiving-transformer with its primary connected to earth and to an elevated terminal and having the operative devices in its secondary, and other features or particulars, such as have been described in this specification or will readily suggest themselves by a perusal of the same. I do not claim in this application a transformer for developing or converting currents of high potential in the form herewith shown and described and with the two coils connected together, as and for the purpose set forth, having made these improvement the subject of a patent granted to me November 2, 1897, No. 593,138, nor do I claim herein the apparatus employed in carrying out the method of this application when such apparatus is specially constructed and arranged for securing the particular object sought in the present invention, as these last-named features are made the subject of an application filed as a division of this application on February 19, 1900, Serial No. 5,780. \n",
      "{'filename': '78_PATENT 645,576 .docx', 'page_number': 2, 'category': 'NarrativeText', 'id': '162', 'title': 'SYSTEM OF TRANSMISSION OF ELECTRICAL ENERGY', 'date': '1900-03-20', 'type': 'patent', 'register_num': '645,576 '}\n"
     ]
    }
   ],
   "source": [
    "l = [len(d.page_content) for d in all_docs]\n",
    "max(l)\n",
    "l.index(max(l))\n",
    "print(all_docs[l.index(max(l))].page_content)\n",
    "print(all_docs[l.index(max(l))].metadata)"
   ]
  },
  {
   "cell_type": "code",
<<<<<<< HEAD
   "execution_count": 51,
=======
   "execution_count": 169,
>>>>>>> c50626c4654379a287054a5cef95316419ab8c05
   "metadata": {},
   "outputs": [
    {
     "name": "stdout",
     "output_type": "stream",
     "text": [
      "['filename', 'page_number', 'category', 'id', 'title', 'date', 'type', 'header_footer_type', 'register_num']\n",
      "[{'Title', 'Header', 'UncategorizedText', 'NarrativeText'}]\n"
     ]
    }
   ],
   "source": [
    "all_metadata_keys = list(all.keys())\n",
    "print(all_metadata_keys)\n",
    "possible_categories = set(all['category'])\n",
    "print([possible_categories])\n",
    "\n",
<<<<<<< HEAD
    "for doc in all_docs:\n",
    "    # if 'emphasized_text_contents' in doc.metadata.keys() and len(doc.metadata['emphasized_text_contents']) > 1:\n",
    "    if 'filename' in doc.metadata.keys() and doc.metadata['filename'] == 'Experiments with Alternate Currents of High Potential and High Frequency.docx':    \n",
    "        # print(doc.metadata['emphasized_text_contents'])\n",
    "        print(doc.metadata)\n"
=======
    "from langchain.document_loaders import PyPDFDirectoryLoader\n",
    "from langchain.text_splitter import RecursiveCharacterTextSplitter\n",
    "\n",
    "pages = []\n",
    "text_splitter = RecursiveCharacterTextSplitter(chunk_size = 5000)\n",
    "for folder_name in folder_names:\n",
    "    # TODO: Consider PDFLoader(splitPages = False)\n",
    "    loader = PyPDFDirectoryLoader(path = f\"pdf_docs/{folder_name}/\")\n",
    "    # TODO: Try other values for the text splitter chunk_size\n",
    "    # TODO: Load without page splitting\n",
    "    pages += loader.load_and_split(text_splitter = text_splitter)"
>>>>>>> c50626c4654379a287054a5cef95316419ab8c05
   ]
  },
  {
   "cell_type": "code",
<<<<<<< HEAD
   "execution_count": 52,
=======
   "execution_count": 178,
   "metadata": {},
   "outputs": [],
   "source": [
    "# Removing watermarks from the data\n",
    "\n",
    "strings_to_remove = ['Evaluation Only. Created with Aspose.Words. Copyright 2003-2023 Aspose Pty \\nLtd.',\n",
    "                    'Evaluation Only. Created with Aspose.Words. Copyright 2003-2023 Aspose Pty Ltd.',\n",
    "                    'Evaluation Only. Created with Aspose.Words. Copyright 2003-2023 Aspose Pty',\n",
    "                    'Created with an evaluation copy of Aspose.Words. To discover the full versions \\nof our APIs please visit: https://products.aspose.com/words/',\n",
    "                    'Created with an evaluation copy of Aspose.Words. To discover the full versions',\n",
    "                    'Created with an evaluation copy of Aspose.Words. To discover the full \\nversions of our APIs please visit: https://products.aspose.com/words/',\n",
    "                    'Created with an evaluation copy of Aspose.Words. To discover the full versions of our \\nAPIs please visit: https://products.aspose.com/words/',\n",
    "                    'of our APIs please visit: https://products.aspose.com/words/',\n",
    "                    'Created with an evaluation copy of Aspose.Words. To discover the \\nfull versions of our APIs please visit: \\nhttps://products.aspose.com/words/Evaluation',\n",
    "                    'Only. Created with Aspose.Words. Copyright 2003-2023 \\nAspose Pty Ltd.',\n",
    "                    'Created with an evaluation copy of Aspose.Words. To discover the',\n",
    "                    'full versions of our APIs please visit: \\nhttps://products.aspose.com/words/',\n",
    "                    ' of our \\nAPIs please visit: https://products.aspose.com/words/'\n",
    "                    ]\n",
    "\n",
    "for i, page in enumerate(pages):\n",
    "    for string in strings_to_remove:\n",
    "        page.page_content = page.page_content.replace(string, '')\n",
    "    assert not 'Created with Aspose' in page.page_content, f\"Assert failed for page number {i} with content: {page.page_content} from file {page.metadata}\"\n",
    "    assert not 'Aspose' in page.page_content, f\"Assert failed for page number {i} with content: {page.page_content} from file {page.metadata}\"\n",
    "    assert not 'Evaluation Only' in page.page_content, f\"Assert failed for page number {i} with content: {page.page_content} from file {page.metadata}\"\n",
    "    assert not 'Copyright' in page.page_content, f\"Assert failed for page number {i} with content: {page.page_content} from file {page.metadata}\"\n",
    "    assert not 'https://products.aspose.com/words/' in page.page_content, f\"Assert failed for page number {i} with content: {page.page_content} from file {page.metadata}\"\n",
    "\n",
    "    page.metadata['document_name'] = ''.join(page.metadata['source'].split('/')[-1].rsplit('.', 1)[0])\n",
    "    del page.metadata['source']\n",
    "\n",
    "pages_backup = copy.deepcopy(pages)\n"
   ]
  },
  {
   "cell_type": "code",
   "execution_count": 193,
   "metadata": {},
   "outputs": [
    {
     "name": "stdout",
     "output_type": "stream",
     "text": [
      "page_content='A is an annular magnetic frame supported by the cross-bars or brackets B, provided with \\nfeet C, upon which the machine rests. The interior of the annulus A is provided with a \\nlarge number of projections or pole-pieces D. These may be formed or applied in a variety \\nof ways—as, for example, by milling transverse grooves E.Owing to the very large number and small size of the poles and the spaces between them, \\nI apply the exciting or field coils by winding an insulated conductor F zigzag through the \\ngrooves, as shown in Fig. 5, carrying said wire around the annulus to form as many layers \\nas is desired. In this way the pole-pieces D will be energized with alternately opposite \\npolarity around the entire ring.For the armature I employ a spider or circular frame G on a driving-shaft H, mounted in \\nbearings in the brackets B. This spider carries a ring J, turned down, except at its edges, \\nto form a trough-like receptacle for a mass of fine annealed iron wires K, which are wound \\nin the groove to form the core proper for the armature-coils. Pins L are set in the sides of \\nthe ring J, and the coils M are wound over the periphery of the armature-structure and \\naround the pins. The coils M are connected together in series, and these terminals N \\ncarried through the hollow shaft H to contact-rings P P, from whence the currents are \\ntaken off by brushes O. In this way a machine with a very large number of poles may be \\nconstructed. It is easy, for instance, to obtain in this manner three hundred and seventy-\\nfive to four hundred poles in a machine that may be safely driven at a speed of fifteen \\nhundred or sixteen hundred revolutions per minute, which will produce ten thousand or \\neleven thousand alternations of current per second. Arc lamps R R are shown in diagram \\nas connected up in series with the machine in Fig. 2. If such a current be applied to \\nrunning arc lamps, the sound produced by or in the arc becomes practically inaudible, for \\nby increasing the rate of change in the current, and consequently the number of vibrations \\nper unit of time of the gaseous material of the arc up to or beyond ten thousand or eleven \\nthousand per second, or to what is regarded as the limit of audition, the sound due to \\nsuch vibrations will not be audible. The exact number of changes or undulations \\nnecessary to produce this result will vary somewhat according to the size of the arc—that \\nis to say, the smaller the arc the greater the number of changes that will be required to \\nrender it inaudible within certain limits. Of course, as the rate of alternations or undulations \\nfor a given size of arc becomes very high the sound produced is less perceptible, and \\nhence for some purposes the actual limit of audition may only be approached, provided \\nthe sound be rendered practically inaudible.Another advantage gained by increasing as above set forth the number of alternations is \\nthat the arc acts more like that produced by a continuous current, in that it is more \\npersistent, owing to the fact that the time interval between undulations is so small that the \\ngaseous matter cannot cool down so far as to increase very considerably in resistance.I claim—The method of abating or rendering inaudible the sound emitted by arc lamps supplied \\nwith or operated by an alternating or pulsating current by increasing the rate of such \\nalternations or pulsations up to that of the limit of audition, as set forth.NIKOLA TESLA.Witnesses:FRANK B. MURPHY,' metadata={'page': 1, 'document_name': '48_PATENT 447,920 '}\n",
      "page_content='RAPHAËL NETTER.' metadata={'page': 2, 'document_name': '48_PATENT 447,920 '}\n",
      "page_content='UNITED STATES PATENT OFFICENIKOLA TESLA, OF NEW YORK, N. Y.TESLA PATENT 568,177 APPARATUS FOR \\nPRODUCING OZONESPECIFICATION forming part of Letters Patent No. 568,177, dated September 22, 1896. Application filed June 17, 1896. Serial No. 595,927. (No model.)To all whom it may concern:Be it known that I, NIKOLA TESLA, a citizen of the United States, residing at New York, \\nin the county and State of New York, have invented certain new and useful Improvements \\nin Apparatus for Producing Ozone, of which the following is a specification, reference \\nbeing had to the drawings accompanying and forming a part of the same.The invention subject of my present application has primarily as its object to provide a \\nsimple, cheap, and effective apparatus for the production of ozone or such gases as are \\nobtained by the action of high-tension electrical discharges, although in the application to \\nsuch purposes of the apparatus heretofore invented by me and designed for the \\nproduction of electric currents of high frequency and potential I have made certain \\nimprovements in such apparatus itself which are novel and useful in other and more \\ngeneral applications of the same. I have heretofore shown and described, notably in \\nPatents No. 462,418, dated November 3, 1891, and No. 454,022, dated June 23, 1891, \\nan apparatus devised for the purpose of converting and supplying electrical energy in a \\nform suited for the production of certain novel electrical phenomena which require \\ncurrents of higher frequency and potential than can readily or even possibly be developed \\nby generators of the ordinary types or by such mechanical appliances as were theretofore \\nknown. This apparatus involved means for utilizing the intermittent or oscillating discharge \\nof the accumulated electrical energy of a condenser or a circuit possessing capacity in \\nwhat may be designated the “working” circuit or that which contains the translating \\ndevices or means for utilizing such currents. In my present improvement I have utilized \\nappliances of this general character under conditions and in combination with certain \\ninstrumentalities, hereinafter described, which enable me to produce, without difficulty \\nand at very slight expense, ozone in any desired quantities. I would state the apparatus \\nwhich I have devised for this purpose is capable of other and highly important uses of a \\nsimilar nature, so but for purposes of the present case I deem it sufficient to describe its \\noperation and effects when used for the purpose of generating ozone.In the accompanying drawings, illustrative of the principle of construction and mode of \\noperation of my improvement, Figure 1 is a diagrammatic illustration of my invention; and \\nFig. 2, a view, partly in side elevation and partly in section, of the apparatus as I construct \\nit for practical use.' metadata={'page': 0, 'document_name': '67_PATENT 568,177 '}\n"
     ]
    },
    {
     "data": {
      "image/png": "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",
      "text/plain": [
       "<Figure size 640x480 with 1 Axes>"
      ]
     },
     "metadata": {},
     "output_type": "display_data"
    }
   ],
   "source": [
    "# Removing empty pages (leftover from images)\n",
    "\n",
    "pages = [page for page in pages if len(page.page_content) > 0]\n",
    "\n",
    "# TODO: Remove pages with less than 100 chars?"
   ]
  },
  {
   "cell_type": "code",
   "execution_count": 157,
>>>>>>> c50626c4654379a287054a5cef95316419ab8c05
   "metadata": {},
   "outputs": [],
   "source": [
    "# Metadata parsing\n",
    "\n",
    "import json\n",
<<<<<<< HEAD
    "\n",
    "metadata_dict = {}\n",
    "metadatas = json.load(open('metadata.json'))\n",
=======
>>>>>>> c50626c4654379a287054a5cef95316419ab8c05
    "\n",
    "ascii_replace_dict = {'â€™': '’', 'â€œ': '“', 'â€': '”'}\n",
    "def replace_non_ascii(s):\n",
    "    for pair_k, pair_v in ascii_replace_dict.items():\n",
    "        s = s.replace(pair_k, pair_v)\n",
    "    return s\n",
    "\n",
    "for metadata in metadatas[2]['data']:\n",
    "    if metadata['id'] in ['228', '413']:\n",
    "        # These are duplicates, not needed\n",
    "        continue\n",
    "    key = ''.join(metadata['file_url'].split('/')[-1].rsplit('.', 1)[:-1])\n",
    "\n",
    "    # Repalce non-ascii characters in key\n",
    "    key = replace_non_ascii(key)\n",
    "    \n",
    "    # Make sure that there are no duplicate entries for the same document type\n",
    "    if (key in metadata_dict.keys() and metadata['type'] == metadata_dict[key]['type']):\n",
    "        print(key)\n",
    "        print(metadata['id'])\n",
    "    assert not (key in metadata_dict.keys() and metadata['type'] == metadata_dict[key]['type'])\n",
    "    metadata_dict[key] = {key: value for key, value in metadata.items() if value is not None}\n",
    "    \n",
    "    # Replace non-ascii characters in file url\n",
    "    del metadata_dict[key]['file_url']\n",
    "    for m_key, m_value in metadata_dict.items():\n",
    "        if m_value is None:\n",
    "            del metadata_dict[m_key]\n",
    "        \n"
   ]
  },
  {
   "cell_type": "code",
<<<<<<< HEAD
   "execution_count": 53,
=======
   "execution_count": 158,
>>>>>>> c50626c4654379a287054a5cef95316419ab8c05
   "metadata": {},
   "outputs": [],
   "source": [
    "# Adding metadata\n",
    "\n",
    "for doc in all_docs:\n",
    "    assert doc.metadata['filename'][:-5] in metadata_dict.keys()\n",
    "    doc.metadata.update(metadata_dict[doc.metadata['filename'][:-5]])"
   ]
  },
  {
   "cell_type": "code",
<<<<<<< HEAD
   "execution_count": 54,
=======
   "execution_count": 160,
>>>>>>> c50626c4654379a287054a5cef95316419ab8c05
   "metadata": {},
   "outputs": [],
   "source": [
    "# Vectorstore creation\n",
    "\n",
    "from langchain.vectorstores import Chroma\n",
    "\n",
    "vectorstore = Chroma.from_documents(\n",
    "    documents = all_docs,\n",
    "    embedding = embeddings,\n",
    "    persist_directory=\"./chroma_db\"\n",
    ")"
   ]
  },
  {
   "cell_type": "code",
   "execution_count": null,
   "metadata": {},
   "outputs": [],
   "source": [
    "# Vectorstore loading\n",
    "\n",
    "vectorstore = Chroma(persist_directory=\"./chroma_db\", embedding_function = embeddings)"
   ]
  },
  {
   "cell_type": "code",
<<<<<<< HEAD
   "execution_count": null,
=======
   "execution_count": 161,
>>>>>>> c50626c4654379a287054a5cef95316419ab8c05
   "metadata": {},
   "outputs": [],
   "source": [
    "from langchain.chains.query_constructor.base import AttributeInfo\n",
    "from langchain.retrievers.self_query.base import SelfQueryRetriever\n",
    "\n",
    "\n",
    "# TODO: add new metadata\n",
    "metadata_field_info = [\n",
    "    AttributeInfo(\n",
    "        name=\"document_name\",\n",
    "        description=\"Name of the source document\",\n",
    "        type=\"string\",\n",
    "    ),\n",
    "    AttributeInfo(\n",
    "        name=\"id\",\n",
    "        description=\"Document ID\",\n",
    "        type=\"string\",\n",
    "    ),\n",
    "    AttributeInfo(\n",
    "        name=\"title\",\n",
    "        description=\"Title of the document\",\n",
    "        type=\"string\",\n",
    "    ),\n",
    "    AttributeInfo(\n",
    "        name=\"date\",\n",
    "        description=\"When the document was created\",\n",
    "        type=\"string\",\n",
    "    ),\n",
    "    AttributeInfo(\n",
    "        name=\"register_num\",\n",
    "        description=\"Patent registration number\",\n",
    "        type=\"string\",\n",
    "    ),\n",
    "    AttributeInfo(\n",
    "        name=\"source\",\n",
    "        description=\"Source of the document\",\n",
    "        type=\"string\",\n",
    "    ),\n",
    "    AttributeInfo(\n",
    "        name=\"type\",\n",
    "        description=\"Type of the document - options are lecture, article, patent\",\n",
    "        type=\"string\",\n",
    "    )\n",
    "]\n",
    "\n",
    "document_content_description = \"Document content\"\n",
    "\n",
    "retriever = SelfQueryRetriever.from_llm(\n",
    "    llm = llm, \n",
    "    vectorstore = vectorstore,\n",
    "    document_contents = document_content_description,\n",
    "    metadata_field_info = metadata_field_info, \n",
    "    verbose=True\n",
    ")"
   ]
  },
  {
   "cell_type": "code",
<<<<<<< HEAD
   "execution_count": 55,
   "metadata": {},
   "outputs": [
    {
     "ename": "NameError",
     "evalue": "name 'retriever' is not defined",
     "output_type": "error",
     "traceback": [
      "\u001b[0;31m---------------------------------------------------------------------------\u001b[0m",
      "\u001b[0;31mNameError\u001b[0m                                 Traceback (most recent call last)",
      "Cell \u001b[0;32mIn[55], line 1\u001b[0m\n\u001b[0;32m----> 1\u001b[0m docs \u001b[39m=\u001b[39m retriever\u001b[39m.\u001b[39mget_relevant_documents(\u001b[39m\"\u001b[39m\u001b[39mWhat lectures did Nikola Tesla give\u001b[39m\u001b[39m\"\u001b[39m)\n",
      "\u001b[0;31mNameError\u001b[0m: name 'retriever' is not defined"
=======
   "execution_count": 162,
   "metadata": {},
   "outputs": [
    {
     "name": "stderr",
     "output_type": "stream",
     "text": [
      "/home/jaksa/miniconda3/lib/python3.10/site-packages/langchain/chains/llm.py:278: UserWarning: The predict_and_parse method is deprecated, instead pass an output parser directly to LLMChain.\n",
      "  warnings.warn(\n"
     ]
    },
    {
     "name": "stdout",
     "output_type": "stream",
     "text": [
      "query='Nikola Tesla' filter=Comparison(comparator=<Comparator.EQ: 'eq'>, attribute='type', value='lecture') limit=None\n"
>>>>>>> c50626c4654379a287054a5cef95316419ab8c05
     ]
    }
   ],
   "source": [
    "docs = retriever.get_relevant_documents(\"What lectures did Nikola Tesla give\")"
   ]
  },
  {
   "cell_type": "code",
   "execution_count": 167,
   "metadata": {},
   "outputs": [
    {
     "data": {
      "text/plain": [
       "['Experiments With Alternate Currents of High Potential and High Frequency (lecture)',\n",
       " '7 On Electricity (lecture)',\n",
       " 'Experiments With Alternating Currents of Very High Frequency and Their Application to Methods of Artificial Illumination (lecture)',\n",
       " '6 On Mechanical and Electrical Oscillators (lecture)']"
      ]
     },
     "execution_count": 167,
     "metadata": {},
     "output_type": "execute_result"
    }
   ],
   "source": [
    "[d.metadata['document_name'] for d in docs]"
   ]
  },
  {
   "cell_type": "code",
   "execution_count": null,
   "metadata": {},
   "outputs": [
    {
     "data": {
      "text/plain": [
       "['Experiments With Alternate Currents of High Potential and High Frequency (lecture)',\n",
       " '7 On Electricity (lecture)',\n",
       " 'Experiments With Alternating Currents of Very High Frequency and Their Application to Methods of Artificial Illumination (lecture)',\n",
       " '6 On Mechanical and Electrical Oscillators (lecture)']"
      ]
     },
     "execution_count": 167,
     "metadata": {},
     "output_type": "execute_result"
    }
   ],
   "source": [
    "[d.metadata['filename'] for d in docs]"
   ]
  },
  {
   "cell_type": "code",
   "execution_count": null,
   "metadata": {},
   "outputs": [],
   "source": [
    "# Basic Retriever example\n",
    "\n",
    "from langchain.chains import RetrievalQA\n",
    "\n",
    "question = \"How many poles shoul my electromotor have, and what should I do if I have the wrong number?\"\n",
    "qa_chain = RetrievalQA.from_chain_type(llm = llm, retriever = retriever)\n",
    "print(qa_chain({\"query\": question}))"
   ]
  },
  {
   "cell_type": "code",
   "execution_count": null,
   "metadata": {},
   "outputs": [
    {
     "name": "stdout",
     "output_type": "stream",
     "text": [
      "Question: Did Nikola Tesla teach about light?\n",
      "Answer: Yes, Nikola Tesla did discuss light in his lecture. He mentioned the electromagnetic theory of light and expressed his belief that electromagnetic waves, unless they had the frequency of true light waves, could not produce luminous effects. However, he believed that electrostatic waves could excite luminous radiation.\n",
      "Question: When did he give that lecture and where?\n",
      "Answer: Nikola Tesla gave the lecture discussing light at the Ellicot Club in Buffalo on January 12, 1897.\n"
     ]
    }
   ],
   "source": [
    "# Retriever with memory example\n",
    "\n",
    "from langchain.memory import ConversationBufferMemory\n",
    "from langchain.chains import ConversationalRetrievalChain\n",
    "\n",
    "memory = ConversationBufferMemory(memory_key = \"chat_history\", return_messages = True)\n",
    "retriever = vectorstore.as_retriever()\n",
    "qa = ConversationalRetrievalChain.from_llm(llm = llm, retriever = retriever, memory = memory)\n",
    "question = input()\n",
    "print(f\"Question: {question}\")\n",
    "print(f\"Answer: {qa({'question': question})['answer']}\")\n",
    "question = input()\n",
    "print(f\"Question: {question}\")\n",
    "print(f\"Answer: {qa({'question': question})['answer']}\")"
   ]
  },
  {
   "cell_type": "code",
   "execution_count": null,
   "metadata": {},
   "outputs": [],
   "source": []
  }
 ],
 "metadata": {
  "kernelspec": {
   "display_name": "base",
   "language": "python",
   "name": "python3"
  },
  "language_info": {
   "codemirror_mode": {
    "name": "ipython",
    "version": 3
   },
   "file_extension": ".py",
   "mimetype": "text/x-python",
   "name": "python",
   "nbconvert_exporter": "python",
   "pygments_lexer": "ipython3",
   "version": "3.10.9"
  },
  "orig_nbformat": 4
 },
 "nbformat": 4,
 "nbformat_minor": 2
}
