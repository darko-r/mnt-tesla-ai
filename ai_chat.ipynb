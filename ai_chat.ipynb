{
 "cells": [
  {
   "cell_type": "code",
   "execution_count": 81,
   "metadata": {},
   "outputs": [],
   "source": [
    "import os\n",
    "import openai\n",
    "import copy\n",
    "\n",
    "from langchain.embeddings import OpenAIEmbeddings\n",
    "from langchain.chat_models import ChatOpenAI\n",
    "\n",
    "\n",
    "embeddings = OpenAIEmbeddings()\n",
    "llm_name = \"gpt-3.5-turbo\"\n",
    "llm = ChatOpenAI(model_name = llm_name, temperature = 0)\n",
    "\n",
    "def get_completion(prompt, model = llm_name, temperature = 0):\n",
    "    messages = [{\"role\": \"user\", \"content\": prompt}]\n",
    "    response = openai.ChatCompletion.create(model = model,\n",
    "                                            messages = messages,\n",
    "                                            temperature = temperature)\n",
    "    return response.choices[0].message['content']\n",
    "\n",
    "# document folders\n",
    "folder_names = [\"articles\", \"patents\", \"lectures\"]"
   ]
  },
  {
   "cell_type": "code",
   "execution_count": 82,
   "metadata": {},
   "outputs": [
    {
     "name": "stdout",
     "output_type": "stream",
     "text": [
      "Could not convert document The Moon's Rotation 2.docx from articles\n"
     ]
    }
   ],
   "source": [
    "# Converting Docx to Pdf for easier loading\n",
    "\n",
    "import aspose.words as aw\n",
    "\n",
    "for folder_name in folder_names:\n",
    "    os.system(f\"rm pdf_docs/{folder_name}/*.pdf\")\n",
    "\n",
    "    for file_name in os.listdir(os.path.join('docx_docs', folder_name)):\n",
    "        try:\n",
    "            a = aw.Document(os.path.join('docx_docs', folder_name, file_name))\n",
    "            new_filename = ''.join(file_name.rsplit('.', 1)[:-1]) + '.pdf'\n",
    "            a.save(os.path.join('pdf_docs', folder_name, new_filename))\n",
    "        except:\n",
    "            print(f\"Could not convert document {file_name} from {folder_name}\")\n",
    "\n",
    "# TODO: Investigate why The Moon's Rotation 2.docx cannot be converted\n",
    "os.remove(\"pdf_docs/articles/The Moon's Rotation 2.pdf\")\n"
   ]
  },
  {
   "cell_type": "code",
   "execution_count": 169,
   "metadata": {},
   "outputs": [],
   "source": [
    "# Loading PDF documents\n",
    "\n",
    "from langchain.document_loaders import PyPDFDirectoryLoader\n",
    "from langchain.text_splitter import RecursiveCharacterTextSplitter\n",
    "\n",
    "pages = []\n",
    "text_splitter = RecursiveCharacterTextSplitter(chunk_size = 5000)\n",
    "for folder_name in folder_names:\n",
    "    # TODO: Consider PDFLoader(splitPages = False)\n",
    "    loader = PyPDFDirectoryLoader(path = f\"pdf_docs/{folder_name}/\")\n",
    "    # TODO: Try other values for the text splitter chunk_size\n",
    "    # TODO: Load without page splitting\n",
    "    pages += loader.load_and_split(text_splitter = text_splitter)"
   ]
  },
  {
   "cell_type": "code",
   "execution_count": 178,
   "metadata": {},
   "outputs": [],
   "source": [
    "# Removing watermarks from the data\n",
    "\n",
    "strings_to_remove = ['Evaluation Only. Created with Aspose.Words. Copyright 2003-2023 Aspose Pty \\nLtd.',\n",
    "                    'Evaluation Only. Created with Aspose.Words. Copyright 2003-2023 Aspose Pty Ltd.',\n",
    "                    'Evaluation Only. Created with Aspose.Words. Copyright 2003-2023 Aspose Pty',\n",
    "                    'Created with an evaluation copy of Aspose.Words. To discover the full versions \\nof our APIs please visit: https://products.aspose.com/words/',\n",
    "                    'Created with an evaluation copy of Aspose.Words. To discover the full versions',\n",
    "                    'Created with an evaluation copy of Aspose.Words. To discover the full \\nversions of our APIs please visit: https://products.aspose.com/words/',\n",
    "                    'Created with an evaluation copy of Aspose.Words. To discover the full versions of our \\nAPIs please visit: https://products.aspose.com/words/',\n",
    "                    'of our APIs please visit: https://products.aspose.com/words/',\n",
    "                    'Created with an evaluation copy of Aspose.Words. To discover the \\nfull versions of our APIs please visit: \\nhttps://products.aspose.com/words/Evaluation',\n",
    "                    'Only. Created with Aspose.Words. Copyright 2003-2023 \\nAspose Pty Ltd.',\n",
    "                    'Created with an evaluation copy of Aspose.Words. To discover the',\n",
    "                    'full versions of our APIs please visit: \\nhttps://products.aspose.com/words/',\n",
    "                    ' of our \\nAPIs please visit: https://products.aspose.com/words/'\n",
    "                    ]\n",
    "\n",
    "for i, page in enumerate(pages):\n",
    "    for string in strings_to_remove:\n",
    "        page.page_content = page.page_content.replace(string, '')\n",
    "    assert not 'Created with Aspose' in page.page_content, f\"Assert failed for page number {i} with content: {page.page_content} from file {page.metadata}\"\n",
    "    assert not 'Aspose' in page.page_content, f\"Assert failed for page number {i} with content: {page.page_content} from file {page.metadata}\"\n",
    "    assert not 'Evaluation Only' in page.page_content, f\"Assert failed for page number {i} with content: {page.page_content} from file {page.metadata}\"\n",
    "    assert not 'Copyright' in page.page_content, f\"Assert failed for page number {i} with content: {page.page_content} from file {page.metadata}\"\n",
    "    assert not 'https://products.aspose.com/words/' in page.page_content, f\"Assert failed for page number {i} with content: {page.page_content} from file {page.metadata}\"\n",
    "\n",
    "    page.metadata['document_name'] = ''.join(page.metadata['source'].split('/')[-1].rsplit('.', 1)[0])\n",
    "    del page.metadata['source']\n",
    "\n",
    "pages_backup = copy.deepcopy(pages)\n"
   ]
  },
  {
   "cell_type": "code",
   "execution_count": 193,
   "metadata": {},
   "outputs": [
    {
     "name": "stdout",
     "output_type": "stream",
     "text": [
      "page_content='A is an annular magnetic frame supported by the cross-bars or brackets B, provided with \\nfeet C, upon which the machine rests. The interior of the annulus A is provided with a \\nlarge number of projections or pole-pieces D. These may be formed or applied in a variety \\nof ways—as, for example, by milling transverse grooves E.Owing to the very large number and small size of the poles and the spaces between them, \\nI apply the exciting or field coils by winding an insulated conductor F zigzag through the \\ngrooves, as shown in Fig. 5, carrying said wire around the annulus to form as many layers \\nas is desired. In this way the pole-pieces D will be energized with alternately opposite \\npolarity around the entire ring.For the armature I employ a spider or circular frame G on a driving-shaft H, mounted in \\nbearings in the brackets B. This spider carries a ring J, turned down, except at its edges, \\nto form a trough-like receptacle for a mass of fine annealed iron wires K, which are wound \\nin the groove to form the core proper for the armature-coils. Pins L are set in the sides of \\nthe ring J, and the coils M are wound over the periphery of the armature-structure and \\naround the pins. The coils M are connected together in series, and these terminals N \\ncarried through the hollow shaft H to contact-rings P P, from whence the currents are \\ntaken off by brushes O. In this way a machine with a very large number of poles may be \\nconstructed. It is easy, for instance, to obtain in this manner three hundred and seventy-\\nfive to four hundred poles in a machine that may be safely driven at a speed of fifteen \\nhundred or sixteen hundred revolutions per minute, which will produce ten thousand or \\neleven thousand alternations of current per second. Arc lamps R R are shown in diagram \\nas connected up in series with the machine in Fig. 2. If such a current be applied to \\nrunning arc lamps, the sound produced by or in the arc becomes practically inaudible, for \\nby increasing the rate of change in the current, and consequently the number of vibrations \\nper unit of time of the gaseous material of the arc up to or beyond ten thousand or eleven \\nthousand per second, or to what is regarded as the limit of audition, the sound due to \\nsuch vibrations will not be audible. The exact number of changes or undulations \\nnecessary to produce this result will vary somewhat according to the size of the arc—that \\nis to say, the smaller the arc the greater the number of changes that will be required to \\nrender it inaudible within certain limits. Of course, as the rate of alternations or undulations \\nfor a given size of arc becomes very high the sound produced is less perceptible, and \\nhence for some purposes the actual limit of audition may only be approached, provided \\nthe sound be rendered practically inaudible.Another advantage gained by increasing as above set forth the number of alternations is \\nthat the arc acts more like that produced by a continuous current, in that it is more \\npersistent, owing to the fact that the time interval between undulations is so small that the \\ngaseous matter cannot cool down so far as to increase very considerably in resistance.I claim—The method of abating or rendering inaudible the sound emitted by arc lamps supplied \\nwith or operated by an alternating or pulsating current by increasing the rate of such \\nalternations or pulsations up to that of the limit of audition, as set forth.NIKOLA TESLA.Witnesses:FRANK B. MURPHY,' metadata={'page': 1, 'document_name': '48_PATENT 447,920 '}\n",
      "page_content='RAPHAËL NETTER.' metadata={'page': 2, 'document_name': '48_PATENT 447,920 '}\n",
      "page_content='UNITED STATES PATENT OFFICENIKOLA TESLA, OF NEW YORK, N. Y.TESLA PATENT 568,177 APPARATUS FOR \\nPRODUCING OZONESPECIFICATION forming part of Letters Patent No. 568,177, dated September 22, 1896. Application filed June 17, 1896. Serial No. 595,927. (No model.)To all whom it may concern:Be it known that I, NIKOLA TESLA, a citizen of the United States, residing at New York, \\nin the county and State of New York, have invented certain new and useful Improvements \\nin Apparatus for Producing Ozone, of which the following is a specification, reference \\nbeing had to the drawings accompanying and forming a part of the same.The invention subject of my present application has primarily as its object to provide a \\nsimple, cheap, and effective apparatus for the production of ozone or such gases as are \\nobtained by the action of high-tension electrical discharges, although in the application to \\nsuch purposes of the apparatus heretofore invented by me and designed for the \\nproduction of electric currents of high frequency and potential I have made certain \\nimprovements in such apparatus itself which are novel and useful in other and more \\ngeneral applications of the same. I have heretofore shown and described, notably in \\nPatents No. 462,418, dated November 3, 1891, and No. 454,022, dated June 23, 1891, \\nan apparatus devised for the purpose of converting and supplying electrical energy in a \\nform suited for the production of certain novel electrical phenomena which require \\ncurrents of higher frequency and potential than can readily or even possibly be developed \\nby generators of the ordinary types or by such mechanical appliances as were theretofore \\nknown. This apparatus involved means for utilizing the intermittent or oscillating discharge \\nof the accumulated electrical energy of a condenser or a circuit possessing capacity in \\nwhat may be designated the “working” circuit or that which contains the translating \\ndevices or means for utilizing such currents. In my present improvement I have utilized \\nappliances of this general character under conditions and in combination with certain \\ninstrumentalities, hereinafter described, which enable me to produce, without difficulty \\nand at very slight expense, ozone in any desired quantities. I would state the apparatus \\nwhich I have devised for this purpose is capable of other and highly important uses of a \\nsimilar nature, so but for purposes of the present case I deem it sufficient to describe its \\noperation and effects when used for the purpose of generating ozone.In the accompanying drawings, illustrative of the principle of construction and mode of \\noperation of my improvement, Figure 1 is a diagrammatic illustration of my invention; and \\nFig. 2, a view, partly in side elevation and partly in section, of the apparatus as I construct \\nit for practical use.' metadata={'page': 0, 'document_name': '67_PATENT 568,177 '}\n"
     ]
    },
    {
     "data": {
      "image/png": "[encoded data removed]",
      "text/plain": [
       "<Figure size 640x480 with 1 Axes>"
      ]
     },
     "metadata": {},
     "output_type": "display_data"
    }
   ],
   "source": [
    "# Removing empty pages (leftover from images)\n",
    "\n",
    "pages = [page for page in pages if len(page.page_content) > 0]\n",
    "\n",
    "# TODO: Remove pages with less than 100 chars?"
   ]
  },
  {
   "cell_type": "code",
   "execution_count": 157,
   "metadata": {},
   "outputs": [],
   "source": [
    "# Metadata parsing\n",
    "\n",
    "import json\n",
    "\n",
    "ascii_replace_dict = {'â€™': '’', 'â€œ': '“', 'â€': '”'}\n",
    "def replace_non_ascii(s):\n",
    "    for pair_k, pair_v in ascii_replace_dict.items():\n",
    "        s = s.replace(pair_k, pair_v)\n",
    "    return s\n",
    "\n",
    "metadata_dict = {}\n",
    "metadatas = json.load(open('metadata.json'))\n",
    "\n",
    "for metadata in metadatas[2]['data']:\n",
    "    if metadata['id'] in ['228', '413']:\n",
    "        # These are duplicates, not needed\n",
    "        continue\n",
    "    key = ''.join(metadata['file_url'].split('/')[-1].rsplit('.', 1)[:-1])\n",
    "    \n",
    "    # Repalce non-ascii characters in key\n",
    "    key = replace_non_ascii(key)\n",
    "    \n",
    "    # Make sure that there are no duplicate entries for the same document type\n",
    "    if (key in metadata_dict.keys() and metadata['type'] == metadata_dict[key]['type']):\n",
    "        print(key)\n",
    "        print(metadata['id'])\n",
    "    assert not (key in metadata_dict.keys() and metadata['type'] == metadata_dict[key]['type'])\n",
    "    metadata_dict[key] = {key: value for key, value in metadata.items() if value is not None}\n",
    "\n",
    "    # Replace non-ascii characters in file url\n",
    "    # metadata_dict[key]['file_url'] = replace_non_ascii(metadata_dict[key]['file_url'])\n",
    "    del metadata_dict[key]['file_url']\n",
    "    for m_key, m_value in metadata_dict.items():\n",
    "        if m_value is None:\n",
    "            del metadata_dict[m_key]\n"
   ]
  },
  {
   "cell_type": "code",
   "execution_count": 158,
   "metadata": {},
   "outputs": [],
   "source": [
    "# Adding metadata\n",
    "\n",
    "for page in pages:\n",
    "    assert page.metadata['document_name'] in metadata_dict.keys()\n",
    "    page.metadata.update(metadata_dict[page.metadata['document_name']])"
   ]
  },
  {
   "cell_type": "code",
   "execution_count": 160,
   "metadata": {},
   "outputs": [],
   "source": [
    "# Vectorstore creation\n",
    "\n",
    "from langchain.vectorstores import Chroma\n",
    "\n",
    "vectorstore = Chroma.from_documents(\n",
    "    documents = pages,\n",
    "    embedding = embeddings,\n",
    "    persist_directory=\"./chroma_db\"\n",
    ")"
   ]
  },
  {
   "cell_type": "code",
   "execution_count": 66,
   "metadata": {},
   "outputs": [],
   "source": [
    "# Vectorstore loading\n",
    "\n",
    "vectorstore = Chroma(persist_directory=\"./chroma_db\", embedding_function = embeddings)"
   ]
  },
  {
   "cell_type": "markdown",
   "metadata": {},
   "source": []
  },
  {
   "cell_type": "code",
   "execution_count": 161,
   "metadata": {},
   "outputs": [],
   "source": [
    "from langchain.chains.query_constructor.base import AttributeInfo\n",
    "from langchain.retrievers.self_query.base import SelfQueryRetriever\n",
    "\n",
    "metadata_field_info = [\n",
    "    AttributeInfo(\n",
    "        name=\"document_name\",\n",
    "        description=\"Name of the source document\",\n",
    "        type=\"string\",\n",
    "    ),\n",
    "    AttributeInfo(\n",
    "        name=\"id\",\n",
    "        description=\"Document ID\",\n",
    "        type=\"string\",\n",
    "    ),\n",
    "    AttributeInfo(\n",
    "        name=\"title\",\n",
    "        description=\"Title of the document\",\n",
    "        type=\"string\",\n",
    "    ),\n",
    "    AttributeInfo(\n",
    "        name=\"date\",\n",
    "        description=\"When the document was created\",\n",
    "        type=\"string\",\n",
    "    ),\n",
    "    AttributeInfo(\n",
    "        name=\"register_num\",\n",
    "        description=\"Patent registration number\",\n",
    "        type=\"string\",\n",
    "    ),\n",
    "    AttributeInfo(\n",
    "        name=\"source\",\n",
    "        description=\"Source of the document\",\n",
    "        type=\"string\",\n",
    "    ),\n",
    "    AttributeInfo(\n",
    "        name=\"type\",\n",
    "        description=\"Type of the document - options are lecture, article, patent\",\n",
    "        type=\"string\",\n",
    "    )\n",
    "]\n",
    "\n",
    "document_content_description = \"Document content\"\n",
    "\n",
    "retriever = SelfQueryRetriever.from_llm(\n",
    "    llm = llm, \n",
    "    vectorstore = vectorstore,\n",
    "    document_contents = document_content_description,\n",
    "    metadata_field_info = metadata_field_info, \n",
    "    verbose=True\n",
    ")"
   ]
  },
  {
   "cell_type": "code",
   "execution_count": 162,
   "metadata": {},
   "outputs": [
    {
     "name": "stderr",
     "output_type": "stream",
     "text": [
      "/home/jaksa/miniconda3/lib/python3.10/site-packages/langchain/chains/llm.py:278: UserWarning: The predict_and_parse method is deprecated, instead pass an output parser directly to LLMChain.\n",
      "  warnings.warn(\n"
     ]
    },
    {
     "name": "stdout",
     "output_type": "stream",
     "text": [
      "query='Nikola Tesla' filter=Comparison(comparator=<Comparator.EQ: 'eq'>, attribute='type', value='lecture') limit=None\n"
     ]
    }
   ],
   "source": [
    "docs = retriever.get_relevant_documents(\"What lectures did Nikola Tesla give\")"
   ]
  },
  {
   "cell_type": "code",
   "execution_count": 167,
   "metadata": {},
   "outputs": [
    {
     "data": {
      "text/plain": [
       "['Experiments With Alternate Currents of High Potential and High Frequency (lecture)',\n",
       " '7 On Electricity (lecture)',\n",
       " 'Experiments With Alternating Currents of Very High Frequency and Their Application to Methods of Artificial Illumination (lecture)',\n",
       " '6 On Mechanical and Electrical Oscillators (lecture)']"
      ]
     },
     "execution_count": 167,
     "metadata": {},
     "output_type": "execute_result"
    }
   ],
   "source": [
    "[d.metadata['document_name'] for d in docs]"
   ]
  },
  {
   "cell_type": "code",
   "execution_count": null,
   "metadata": {},
   "outputs": [],
   "source": [
    "# Basic Retriever example\n",
    "\n",
    "from langchain.chains import RetrievalQA\n",
    "\n",
    "question = \"How many poles shoul my electromotor have, and what should I do if I have the wrong number?\"\n",
    "qa_chain = RetrievalQA.from_chain_type(llm = llm, retriever = retriever)\n",
    "print(qa_chain({\"query\": question}))"
   ]
  },
  {
   "cell_type": "code",
   "execution_count": 83,
   "metadata": {},
   "outputs": [
    {
     "name": "stdout",
     "output_type": "stream",
     "text": [
      "Question: Did Nikola Tesla teach about light?\n",
      "Answer: Yes, Nikola Tesla did discuss light in his lecture. He mentioned the electromagnetic theory of light and expressed his belief that electromagnetic waves, unless they had the frequency of true light waves, could not produce luminous effects. However, he believed that electrostatic waves could excite luminous radiation.\n",
      "Question: When did he give that lecture and where?\n",
      "Answer: Nikola Tesla gave the lecture discussing light at the Ellicot Club in Buffalo on January 12, 1897.\n"
     ]
    }
   ],
   "source": [
    "# Retriever with memory example\n",
    "\n",
    "from langchain.memory import ConversationBufferMemory\n",
    "from langchain.chains import ConversationalRetrievalChain\n",
    "\n",
    "memory = ConversationBufferMemory(memory_key = \"chat_history\", return_messages = True)\n",
    "retriever = vectorstore.as_retriever()\n",
    "qa = ConversationalRetrievalChain.from_llm(llm = llm, retriever = retriever, memory = memory)\n",
    "question = input()\n",
    "print(f\"Question: {question}\")\n",
    "print(f\"Answer: {qa({'question': question})['answer']}\")\n",
    "question = input()\n",
    "print(f\"Question: {question}\")\n",
    "print(f\"Answer: {qa({'question': question})['answer']}\")"
   ]
  },
  {
   "cell_type": "code",
   "execution_count": null,
   "metadata": {},
   "outputs": [],
   "source": []
  }
 ],
 "metadata": {
  "kernelspec": {
   "display_name": "base",
   "language": "python",
   "name": "python3"
  },
  "language_info": {
   "codemirror_mode": {
    "name": "ipython",
    "version": 3
   },
   "file_extension": ".py",
   "mimetype": "text/x-python",
   "name": "python",
   "nbconvert_exporter": "python",
   "pygments_lexer": "ipython3",
   "version": "3.10.9"
  },
  "orig_nbformat": 4
 },
 "nbformat": 4,
 "nbformat_minor": 2
}
