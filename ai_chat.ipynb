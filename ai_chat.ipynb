{
 "cells": [
  {
   "cell_type": "code",
   "execution_count": 20,
   "metadata": {},
   "outputs": [],
   "source": [
    "import os\n",
    "import openai\n",
    "import langchain\n",
    "import panel as pn\n",
    "import param\n",
    "\n",
    "from langchain.embeddings import OpenAIEmbeddings\n",
    "from langchain.chat_models import ChatOpenAI\n",
    "\n",
    "\n",
    "embeddings = OpenAIEmbeddings()\n",
    "llm_name = \"gpt-3.5-turbo\"\n",
    "llm = ChatOpenAI(model_name = llm_name, temperature = 0)\n",
    "\n",
    "def get_completion(prompt, model = llm_name, temperature = 0):\n",
    "    messages = [{\"role\": \"user\", \"content\": prompt}]\n",
    "    response = openai.ChatCompletion.create(model = model,\n",
    "                                            messages = messages,\n",
    "                                            temperature = temperature)\n",
    "    return response.choices[0].message['content']"
   ]
  },
  {
   "cell_type": "code",
   "execution_count": null,
   "metadata": {},
   "outputs": [],
   "source": [
    "# Converting Docx to Pdf for easier loading\n",
    "\n",
    "import aspose.words as aw\n",
    "\n",
    "folder_names = [\"patents\", \"lectures\", \"articles\"]\n",
    "for folder_name in folder_names:\n",
    "    os.system(f\"rm pdf_docs/{folder_name}/*.pdf\")\n",
    "\n",
    "    for file_name in os.listdir(os.path.join('docx_docs', folder_name)):\n",
    "        try:\n",
    "            a = aw.Document(os.path.join('docx_docs', folder_name, file_name))\n",
    "            a.save(os.path.join('pdf_docs', folder_name, file_name.split('.')[0]+'.pdf'))\n",
    "        except:\n",
    "            print(f\"Could not convert document {file_name} from {folder_name}\")\n",
    "\n",
    "# TODO: Investigate why The Moon's Rotation 2.docx cannot be converted\n",
    "# os.remove(\"pdf_docs/articles/The Moon's Rotation 2.pdf\")\n"
   ]
  },
  {
   "cell_type": "code",
   "execution_count": 2,
   "metadata": {},
   "outputs": [],
   "source": [
    "# Loading PDF documents\n",
    "\n",
    "from langchain.document_loaders import PyPDFDirectoryLoader\n",
    "from langchain.text_splitter import RecursiveCharacterTextSplitter\n",
    "\n",
    "loader = PyPDFDirectoryLoader(path = \"pdf_docs/\", recursive = True)\n",
    "# TODO: Try other values for the text splitter chunk_size and chunk_overlap\n",
    "text_splitter = RecursiveCharacterTextSplitter(chunk_size = 10000, chunk_overlap = 1000)\n",
    "pages = loader.load_and_split(text_splitter = text_splitter)"
   ]
  },
  {
   "cell_type": "code",
   "execution_count": 3,
   "metadata": {},
   "outputs": [],
   "source": [
    "# Removing watermarks from the data\n",
    "\n",
    "strings_to_remove = ['Evaluation Only. Created with Aspose.Words. Copyright 2003-2023 Aspose Pty \\nLtd.',\n",
    "                    'Evaluation Only. Created with Aspose.Words. Copyright 2003-2023 Aspose Pty Ltd.',\n",
    "                    'Evaluation Only. Created with Aspose.Words. Copyright 2003-2023 Aspose Pty',\n",
    "                    'Created with an evaluation copy of Aspose.Words. To discover the full versions \\nof our APIs please visit: https://products.aspose.com/words/',\n",
    "                    'Created with an evaluation copy of Aspose.Words. To discover the full versions',\n",
    "                    'Created with an evaluation copy of Aspose.Words. To discover the full \\nversions of our APIs please visit: https://products.aspose.com/words/',\n",
    "                    'Created with an evaluation copy of Aspose.Words. To discover the full versions of our \\nAPIs please visit: https://products.aspose.com/words/',\n",
    "                    'of our APIs please visit: https://products.aspose.com/words/',\n",
    "                    'Created with an evaluation copy of Aspose.Words. To discover the \\nfull versions of our APIs please visit: \\nhttps://products.aspose.com/words/Evaluation',\n",
    "                    'Only. Created with Aspose.Words. Copyright 2003-2023 \\nAspose Pty Ltd.',\n",
    "                    'Created with an evaluation copy of Aspose.Words. To discover the',\n",
    "                    'full versions of our APIs please visit: \\nhttps://products.aspose.com/words/',\n",
    "                    ' of our \\nAPIs please visit: https://products.aspose.com/words/'\n",
    "                    ]\n",
    "\n",
    "for i, page in enumerate(pages):\n",
    "    for string in strings_to_remove:\n",
    "        page.page_content = page.page_content.replace(string, '')\n",
    "    assert not 'Created with Aspose' in page.page_content, f\"Assert failed for page number {i} with content: {page.page_content} from file {page.metadata}\"\n",
    "    assert not 'Aspose' in page.page_content, f\"Assert failed for page number {i} with content: {page.page_content} from file {page.metadata}\"\n",
    "    assert not 'Evaluation Only' in page.page_content, f\"Assert failed for page number {i} with content: {page.page_content} from file {page.metadata}\"\n",
    "    assert not 'Copyright' in page.page_content, f\"Assert failed for page number {i} with content: {page.page_content} from file {page.metadata}\"\n",
    "    assert not 'https://products.aspose.com/words/' in page.page_content, f\"Assert failed for page number {i} with content: {page.page_content} from file {page.metadata}\""
   ]
  },
  {
   "cell_type": "code",
   "execution_count": 22,
   "metadata": {},
   "outputs": [
    {
     "name": "stdout",
     "output_type": "stream",
     "text": [
      "Here are the four Python lists in the requested format:\n",
      "\n",
      "names = [\"A New System of Alternate Current Motors and Transformers\", \"Inventor Tesla Replies to Dr. Louis Duncan, Explaining His Alternating Current Motor\", \"Alternate Current Motors\", \"Mr. Nikola Tesla on Alternating Current Motors\", \"Mr. Nikola Tesla on the Ganz Alternating-Current Motors\", \"The Losses Due to Hysteresis in Transformers\", \"Swinburne's \"Hedgehog\" Transformer\"]\n",
      "\n",
      "dates = [\"1888-05-01\", \"1888-06-12\", \"1888-06-15\", \"1889-06-07\", \"1889-06-07\", \"1890-04-09\", \"1890-09-24\"]\n",
      "\n",
      "publishers = [\"The Inventions, Researches and Writings of Nikola Tesla\", \"Electrical Review\", \"The Electrical Engineer\", \"The Telegraphic Journal and Electrical Review\", \"The Electrician\", \"The Electrical Engineer\", \"The Electrical Engineer\"]\n",
      "\n",
      "pages = [11, 2, 1, 3, 3, 2, 2]\n"
     ]
    }
   ],
   "source": [
    "# Metadata extraction and cleanup\n",
    "\n",
    "# import matplotlib.pyplot as plt\n",
    "\n",
    "# print(len(pages))\n",
    "# lens = [len(page.page_content) for page in pages]\n",
    "# plt.hist(lens, color='lightgreen', ec='black', bins=15)\n",
    "\n",
    "# TODO: Do something smarter here when image loading is available\n",
    "pages = [page for page in pages if page.page_content]\n",
    "\n",
    "# print(len(pages))\n",
    "# lens = [len(page.page_content) for page in pages]\n",
    "# plt.hist(lens, color='lightgreen', ec='black', bins=15)\n",
    "\n",
    "\n",
    "# TODO: Extract metadata and then remove unneeded pages (too short)\n",
    "\n",
    "prompt = \"\"\"Convert the following list of new line sepparated strings to four python lists in format: list = [first, second, ...]. The strings represent The name of an article, date of the article, publisher and the number of pages. Note that date is concatenated with the name. Ignore number in the beginning of the each line. Here is the list: 1. A New System of Alternate Current Motors and Transformers1888-05-01\tThe Inventions, Researches and Writings of Nikola Tesla\t11\n",
    "2. Inventor Tesla Replies to Dr. Louis Duncan, Explaining His Alternating Current Motor1888-06-12\tElectrical Review\t2\n",
    "3. Alternate Current Motors1888-06-15\tThe Electrical Engineer\t1\n",
    "4. Mr. Nikola Tesla on Alternating Current Motors1889-06-07\tThe Telegraphic Journal and Electrical Review\t3\n",
    "5. Mr. Nikola Tesla on the Ganz Alternating-Current Motors1889-06-07\tThe Electrician\t3\n",
    "6. The Losses Due to Hysteresis in Transformers1890-04-09\tThe Electrical Engineer\t2\n",
    "7. Swinburne's \"Hedgehog\" Transformer1890-09-24\tThe Electrical Engineer\t2\"\"\"\n",
    "response = get_completion(prompt)\n",
    "print(response)\n",
    "\n",
    "    \n",
    "\n",
    "\n",
    "# For\n",
    "# pages[10].page_content\n",
    "# print(all_texts[0].page_content)\n",
    "# a = text_splitter.split_documents(all_texts)\n",
    "# for aa in a:\n",
    "#     aa.metadata['source'] = aa.metadata['source'].split('/')[-1]\n",
    "# a[5].metadata\n",
    "# all_texts[0].metadata"
   ]
  },
  {
   "cell_type": "code",
   "execution_count": 18,
   "metadata": {},
   "outputs": [
    {
     "name": "stdout",
     "output_type": "stream",
     "text": [
      "page_content='NIKOLA TESLA.Witnesses:E. A. SUNDERLIN,D. D. LORD.' metadata={'source': 'pdf_docs/patents/91_PATENT 685,956 .pdf', 'page': 10}\n",
      "page_content='Witnesses:ROBT. F. GAYLORD,FRANK E. HARTLEY.' metadata={'source': 'pdf_docs/patents/35_PATENT 416,192 .pdf', 'page': 3}\n",
      "page_content='Witnesses: R. J. STONEY, Jr., E. P. COFFIN.' metadata={'source': 'pdf_docs/patents/37_PATENT 424,036.pdf', 'page': 3}\n",
      "page_content='ROBT. F. GAYLORD,PARKER W. PAGE.' metadata={'source': 'pdf_docs/patents/54_PATENT 455,069.pdf', 'page': 3}\n",
      "page_content='M. LAWSON DYER,G. W. MARTLING.' metadata={'source': 'pdf_docs/patents/84_PATENT 609,248 .pdf', 'page': 3}\n",
      "page_content='ROBT. F. GAYLORD, FRANK E. HARTLEY.' metadata={'source': 'pdf_docs/patents/36_PATENT 416,193 .pdf', 'page': 2}\n",
      "page_content='M. LAWSON DYER,RICHARD DONOVAN.' metadata={'source': 'pdf_docs/patents/99_PATENT 685,958 .pdf', 'page': 4}\n",
      "page_content='Witnesses:ROBT. F. GAYLORD, FRANK B. MURPHY.' metadata={'source': 'pdf_docs/patents/19_PATENT 390,414 .pdf', 'page': 3}\n",
      "page_content='NIKOLA TESLA.  Witnesses: GEO. T. PINCKNEY, WALLACE L. SERRELL.' metadata={'source': 'pdf_docs/patents/4_PATENT 336,962.pdf', 'page': 2}\n",
      "page_content='NIKOLA TESLA.Witnesses: M. LAWSON DYER, DRURY W. COOPER.' metadata={'source': 'pdf_docs/patents/70_PATENT 568,179 .pdf', 'page': 3}\n",
      "page_content='RAPHAËL NETTER.' metadata={'source': 'pdf_docs/patents/48_PATENT 447,920 .pdf', 'page': 2}\n",
      "11\n"
     ]
    }
   ],
   "source": [
    "b = 0\n",
    "for i, l in enumerate(lens):\n",
    "    if l < 100:\n",
    "        print(pages[i])\n",
    "        b+=1\n",
    "print(b)\n",
    "# print(lens.index(5522))\n",
    "# pages[668].page_content"
   ]
  },
  {
   "cell_type": "code",
   "execution_count": null,
   "metadata": {},
   "outputs": [],
   "source": [
    "# Vectorstore loading\n",
    "\n",
    "vectorstore = Chroma(persist_directory=os.path.join(\".\", \"docs\", \"merged_vectorstore\"), embedding_function = embeddings)"
   ]
  },
  {
   "cell_type": "code",
   "execution_count": null,
   "metadata": {},
   "outputs": [],
   "source": [
    "# Basic Retriever example\n",
    "\n",
    "from langchain.chains import RetrievalQA\n",
    "from langchain.memory import ConversationBufferMemory\n",
    "from langchain.chains import ConversationalRetrievalChain\n",
    "\n",
    "question = \"How many poles shoul my electromotor have, and what should I do if I have the wrong number?\"\n",
    "qa_chain = RetrievalQA.from_chain_type(llm = llm, retriever = vectorstore.as_retriever())\n",
    "print(qa_chain({\"query\": question}))"
   ]
  },
  {
   "cell_type": "code",
   "execution_count": null,
   "metadata": {},
   "outputs": [],
   "source": [
    "# Retriever with memory example\n",
    "\n",
    "from langchain.chains import RetrievalQA\n",
    "from langchain.memory import ConversationBufferMemory\n",
    "from langchain.chains import ConversationalRetrievalChain\n",
    "\n",
    "memory = ConversationBufferMemory(memory_key = \"chat_history\", return_messages = True)\n",
    "retriever = vectorstore.as_retriever()\n",
    "qa = ConversationalRetrievalChain.from_llm(llm = llm, retriever = retriever, memory = memory)\n",
    "question = input()\n",
    "print(f\"Question: {question}\")\n",
    "print(f\"Answer: {qa({'question': question})['answer']}\")\n",
    "question = input()\n",
    "print(f\"Question: {question}\")\n",
    "print(f\"Answer: {qa({'question': question})['answer']}\")"
   ]
  }
 ],
 "metadata": {
  "kernelspec": {
   "display_name": "base",
   "language": "python",
   "name": "python3"
  },
  "language_info": {
   "codemirror_mode": {
    "name": "ipython",
    "version": 3
   },
   "file_extension": ".py",
   "mimetype": "text/x-python",
   "name": "python",
   "nbconvert_exporter": "python",
   "pygments_lexer": "ipython3",
   "version": "3.10.9"
  },
  "orig_nbformat": 4
 },
 "nbformat": 4,
 "nbformat_minor": 2
}
