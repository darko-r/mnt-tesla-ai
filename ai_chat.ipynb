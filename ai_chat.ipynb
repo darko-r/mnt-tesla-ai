{
 "cells": [
  {
   "cell_type": "code",
   "execution_count": 1,
   "metadata": {},
   "outputs": [],
   "source": [
    "import os\n",
    "import openai\n",
    "import langchain\n",
    "import panel as pn\n",
    "import param\n",
    "\n",
    "from langchain.embeddings import OpenAIEmbeddings\n",
    "from langchain.chat_models import ChatOpenAI\n",
    "\n",
    "\n",
    "embeddings = OpenAIEmbeddings()\n",
    "llm_name = \"gpt-3.5-turbo\"\n",
    "llm = ChatOpenAI(model_name = llm_name, temperature = 0)"
   ]
  },
  {
   "cell_type": "code",
   "execution_count": null,
   "metadata": {},
   "outputs": [],
   "source": [
    "# Text loading, splitting and vectorstore definition\n",
    "\n",
    "from langchain.document_loaders import Docx2txtLoader\n",
    "from langchain.text_splitter import RecursiveCharacterTextSplitter\n",
    "from langchain.vectorstores import Chroma\n",
    "\n",
    "all_texts = []\n",
    "folder_name = \"patents\"\n",
    "for file_name in os.listdir(os.path.join('docs', folder_name)):\n",
    "    try:\n",
    "        all_texts += Docx2txtLoader(os.path.join('.', 'docs', folder_name, file_name)).load()\n",
    "    except:\n",
    "        print(f\"cannot read {os.path.join('.', 'docs', folder_name, file_name)}\")\n",
    "folder_name = \"lectures\"\n",
    "for file_name in os.listdir(os.path.join('docs', folder_name)):\n",
    "    try:\n",
    "        all_texts += Docx2txtLoader(os.path.join('.', 'docs', folder_name, file_name)).load()\n",
    "    except:\n",
    "        print(f\"cannot read {os.path.join('.', 'docs', folder_name, file_name)}\")\n",
    "folder_name = \"articles\"\n",
    "for file_name in os.listdir(os.path.join('docs', folder_name)):\n",
    "    try:\n",
    "        all_texts += Docx2txtLoader(os.path.join('.', 'docs', folder_name, file_name)).load()\n",
    "    except:\n",
    "        print(f\"cannot read {os.path.join('.', 'docs', folder_name, file_name)}\")\n",
    "\n",
    "text_splitter = RecursiveCharacterTextSplitter(chunk_size = 500, chunk_overlap = 0)\n",
    "vectorstore = Chroma.from_documents(documents = text_splitter.split_documents(all_texts), \n",
    "                                    embedding = embeddings, \n",
    "                                    persist_directory = os.path.join(\".\", \"docs\", \"merged_vectorstore\"))"
   ]
  },
  {
   "cell_type": "code",
   "execution_count": null,
   "metadata": {},
   "outputs": [],
   "source": [
    "# Vectorstore loading\n",
    "\n",
    "vectorstore = Chroma(persist_directory=os.path.join(\".\", \"docs\", \"merged_vectorstore\"), embedding_function = embeddings)"
   ]
  },
  {
   "cell_type": "code",
   "execution_count": null,
   "metadata": {},
   "outputs": [],
   "source": [
    "# Basic Retriever example\n",
    "\n",
    "from langchain.chains import RetrievalQA\n",
    "from langchain.memory import ConversationBufferMemory\n",
    "from langchain.chains import ConversationalRetrievalChain\n",
    "\n",
    "question = \"How many poles shoul my electromotor have, and what should I do if I have the wrong number?\"\n",
    "qa_chain = RetrievalQA.from_chain_type(llm = llm, retriever = vectorstore.as_retriever())\n",
    "print(qa_chain({\"query\": question}))"
   ]
  },
  {
   "cell_type": "code",
   "execution_count": null,
   "metadata": {},
   "outputs": [],
   "source": [
    "# Retriever with memory example\n",
    "\n",
    "from langchain.chains import RetrievalQA\n",
    "from langchain.memory import ConversationBufferMemory\n",
    "from langchain.chains import ConversationalRetrievalChain\n",
    "\n",
    "memory = ConversationBufferMemory(memory_key = \"chat_history\", return_messages = True)\n",
    "retriever = vectorstore.as_retriever()\n",
    "qa = ConversationalRetrievalChain.from_llm(llm = llm, retriever = retriever, memory = memory)\n",
    "question = input()\n",
    "print(f\"Question: {question}\")\n",
    "print(f\"Answer: {qa({'question': question})['answer']}\")\n",
    "question = input()\n",
    "print(f\"Question: {question}\")\n",
    "print(f\"Answer: {qa({'question': question})['answer']}\")"
   ]
  },
  {
   "cell_type": "code",
   "execution_count": null,
   "metadata": {},
   "outputs": [],
   "source": []
  }
 ],
 "metadata": {
  "kernelspec": {
   "display_name": "base",
   "language": "python",
   "name": "python3"
  },
  "language_info": {
   "codemirror_mode": {
    "name": "ipython",
    "version": 3
   },
   "file_extension": ".py",
   "mimetype": "text/x-python",
   "name": "python",
   "nbconvert_exporter": "python",
   "pygments_lexer": "ipython3",
   "version": "3.10.9"
  },
  "orig_nbformat": 4
 },
 "nbformat": 4,
 "nbformat_minor": 2
}
