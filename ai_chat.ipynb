{
 "cells": [
  {
   "cell_type": "code",
   "execution_count": 1,
   "metadata": {},
   "outputs": [],
   "source": [
    "import os\n",
    "import openai\n",
    "import langchain\n",
    "import panel as pn\n",
    "import param\n",
    "\n",
    "from langchain.embeddings import OpenAIEmbeddings\n",
    "from langchain.chat_models import ChatOpenAI\n",
    "\n",
    "\n",
    "embeddings = OpenAIEmbeddings()\n",
    "llm_name = \"gpt-3.5-turbo\"\n",
    "llm = ChatOpenAI(model_name = llm_name, temperature = 0)"
   ]
  },
  {
   "cell_type": "code",
   "execution_count": null,
   "metadata": {},
   "outputs": [],
   "source": [
    "# Converting Docx to Pdf for easier loading\n",
    "\n",
    "import aspose.words as aw\n",
    "\n",
    "folder_names = [\"patents\", \"lectures\", \"articles\"]\n",
    "for folder_name in folder_names:\n",
    "    os.system(f\"rm pdf_docs/{folder_name}/*.pdf\")\n",
    "\n",
    "    for file_name in os.listdir(os.path.join('docx_docs', folder_name)):\n",
    "        try:\n",
    "            a = aw.Document(os.path.join('docx_docs', folder_name, file_name))\n",
    "            a.save(os.path.join('pdf_docs', folder_name, file_name.split('.')[0]+'.pdf'))\n",
    "        except:\n",
    "            print(f\"Could not convert document {file_name} from {folder_name}\")\n",
    "\n",
    "# TODO: Investigate why The Moon's Rotation 2.docx cannot be converted\n",
    "# os.remove(\"pdf_docs/articles/The Moon's Rotation 2.pdf\")\n"
   ]
  },
  {
   "cell_type": "code",
   "execution_count": 2,
   "metadata": {},
   "outputs": [],
   "source": [
    "# Loading PDF documents\n",
    "\n",
    "from langchain.document_loaders import PyPDFDirectoryLoader\n",
    "from langchain.text_splitter import RecursiveCharacterTextSplitter\n",
    "\n",
    "loader = PyPDFDirectoryLoader(path = \"pdf_docs/\", recursive = True)\n",
    "# TODO: Try other values for the text splitter chunk_size and chunk_overlap\n",
    "text_splitter = RecursiveCharacterTextSplitter(chunk_size = 10000, chunk_overlap = 1000)\n",
    "pages = loader.load_and_split(text_splitter = text_splitter)"
   ]
  },
  {
   "cell_type": "code",
   "execution_count": 3,
   "metadata": {},
   "outputs": [],
   "source": [
    "# Removing watermarks from the data\n",
    "\n",
    "strings_to_remove = ['Evaluation Only. Created with Aspose.Words. Copyright 2003-2023 Aspose Pty \\nLtd.',\n",
    "                    'Evaluation Only. Created with Aspose.Words. Copyright 2003-2023 Aspose Pty Ltd.',\n",
    "                    'Evaluation Only. Created with Aspose.Words. Copyright 2003-2023 Aspose Pty',\n",
    "                    'Created with an evaluation copy of Aspose.Words. To discover the full versions \\nof our APIs please visit: https://products.aspose.com/words/',\n",
    "                    'Created with an evaluation copy of Aspose.Words. To discover the full versions',\n",
    "                    'Created with an evaluation copy of Aspose.Words. To discover the full \\nversions of our APIs please visit: https://products.aspose.com/words/',\n",
    "                    'Created with an evaluation copy of Aspose.Words. To discover the full versions of our \\nAPIs please visit: https://products.aspose.com/words/',\n",
    "                    'of our APIs please visit: https://products.aspose.com/words/',\n",
    "                    'Created with an evaluation copy of Aspose.Words. To discover the \\nfull versions of our APIs please visit: \\nhttps://products.aspose.com/words/Evaluation',\n",
    "                    'Only. Created with Aspose.Words. Copyright 2003-2023 \\nAspose Pty Ltd.',\n",
    "                    'Created with an evaluation copy of Aspose.Words. To discover the',\n",
    "                    'full versions of our APIs please visit: \\nhttps://products.aspose.com/words/',\n",
    "                    ' of our \\nAPIs please visit: https://products.aspose.com/words/'\n",
    "                    ]\n",
    "\n",
    "for i, page in enumerate(pages):\n",
    "    for string in strings_to_remove:\n",
    "        page.page_content = page.page_content.replace(string, '')\n",
    "    assert not 'Created with Aspose' in page.page_content, f\"Assert failed for page number {i} with content: {page.page_content} from file {page.metadata}\"\n",
    "    assert not 'Aspose' in page.page_content, f\"Assert failed for page number {i} with content: {page.page_content} from file {page.metadata}\"\n",
    "    assert not 'Evaluation Only' in page.page_content, f\"Assert failed for page number {i} with content: {page.page_content} from file {page.metadata}\"\n",
    "    assert not 'Copyright' in page.page_content, f\"Assert failed for page number {i} with content: {page.page_content} from file {page.metadata}\"\n",
    "    assert not 'https://products.aspose.com/words/' in page.page_content, f\"Assert failed for page number {i} with content: {page.page_content} from file {page.metadata}\""
   ]
  },
  {
   "cell_type": "code",
   "execution_count": 5,
   "metadata": {},
   "outputs": [
    {
     "name": "stdout",
     "output_type": "stream",
     "text": [
      "1494\n",
      "1323\n"
     ]
    },
    {
     "data": {
      "text/plain": [
       "(array([ 29.,  38.,  44.,  39.,  51.,  54.,  67., 146.,  87., 115., 304.,\n",
       "        153., 138.,  56.,   2.]),\n",
       " array([  15.        ,  382.13333333,  749.26666667, 1116.4       ,\n",
       "        1483.53333333, 1850.66666667, 2217.8       , 2584.93333333,\n",
       "        2952.06666667, 3319.2       , 3686.33333333, 4053.46666667,\n",
       "        4420.6       , 4787.73333333, 5154.86666667, 5522.        ]),\n",
       " <BarContainer object of 15 artists>)"
      ]
     },
     "execution_count": 5,
     "metadata": {},
     "output_type": "execute_result"
    },
    {
     "data": {
      "image/png": "[encoded data removed]",
      "text/plain": [
       "<Figure size 640x480 with 1 Axes>"
      ]
     },
     "metadata": {},
     "output_type": "display_data"
    }
   ],
   "source": [
    "# Metadata extraction and cleanup\n",
    "\n",
    "import matplotlib.pyplot as plt\n",
    "\n",
    "print(len(pages))\n",
    "lens = [len(page.page_content) for page in pages]\n",
    "plt.hist(lens, color='lightgreen', ec='black', bins=15)\n",
    "\n",
    "pages = [page for page in pages if page.page_content]\n",
    "\n",
    "print(len(pages))\n",
    "lens = [len(page.page_content) for page in pages]\n",
    "plt.hist(lens, color='lightgreen', ec='black', bins=15)\n",
    "\n",
    "\n",
    "# TODO: Extract metadata and then remove unneeded pages (too short)\n",
    "\n",
    "\n",
    "# For\n",
    "# pages[10].page_content\n",
    "# print(all_texts[0].page_content)\n",
    "# a = text_splitter.split_documents(all_texts)\n",
    "# for aa in a:\n",
    "#     aa.metadata['source'] = aa.metadata['source'].split('/')[-1]\n",
    "# a[5].metadata\n",
    "# all_texts[0].metadata"
   ]
  },
  {
   "cell_type": "code",
   "execution_count": 18,
   "metadata": {},
   "outputs": [
    {
     "name": "stdout",
     "output_type": "stream",
     "text": [
      "page_content='NIKOLA TESLA.Witnesses:E. A. SUNDERLIN,D. D. LORD.' metadata={'source': 'pdf_docs/patents/91_PATENT 685,956 .pdf', 'page': 10}\n",
      "page_content='Witnesses:ROBT. F. GAYLORD,FRANK E. HARTLEY.' metadata={'source': 'pdf_docs/patents/35_PATENT 416,192 .pdf', 'page': 3}\n",
      "page_content='Witnesses: R. J. STONEY, Jr., E. P. COFFIN.' metadata={'source': 'pdf_docs/patents/37_PATENT 424,036.pdf', 'page': 3}\n",
      "page_content='ROBT. F. GAYLORD,PARKER W. PAGE.' metadata={'source': 'pdf_docs/patents/54_PATENT 455,069.pdf', 'page': 3}\n",
      "page_content='M. LAWSON DYER,G. W. MARTLING.' metadata={'source': 'pdf_docs/patents/84_PATENT 609,248 .pdf', 'page': 3}\n",
      "page_content='ROBT. F. GAYLORD, FRANK E. HARTLEY.' metadata={'source': 'pdf_docs/patents/36_PATENT 416,193 .pdf', 'page': 2}\n",
      "page_content='M. LAWSON DYER,RICHARD DONOVAN.' metadata={'source': 'pdf_docs/patents/99_PATENT 685,958 .pdf', 'page': 4}\n",
      "page_content='Witnesses:ROBT. F. GAYLORD, FRANK B. MURPHY.' metadata={'source': 'pdf_docs/patents/19_PATENT 390,414 .pdf', 'page': 3}\n",
      "page_content='NIKOLA TESLA.  Witnesses: GEO. T. PINCKNEY, WALLACE L. SERRELL.' metadata={'source': 'pdf_docs/patents/4_PATENT 336,962.pdf', 'page': 2}\n",
      "page_content='NIKOLA TESLA.Witnesses: M. LAWSON DYER, DRURY W. COOPER.' metadata={'source': 'pdf_docs/patents/70_PATENT 568,179 .pdf', 'page': 3}\n",
      "page_content='RAPHAËL NETTER.' metadata={'source': 'pdf_docs/patents/48_PATENT 447,920 .pdf', 'page': 2}\n",
      "11\n"
     ]
    }
   ],
   "source": [
    "b = 0\n",
    "for i, l in enumerate(lens):\n",
    "    if l < 100:\n",
    "        print(pages[i])\n",
    "        b+=1\n",
    "print(b)\n",
    "# print(lens.index(5522))\n",
    "# pages[668].page_content"
   ]
  },
  {
   "cell_type": "code",
   "execution_count": null,
   "metadata": {},
   "outputs": [],
   "source": [
    "# Vectorstore loading\n",
    "\n",
    "vectorstore = Chroma(persist_directory=os.path.join(\".\", \"docs\", \"merged_vectorstore\"), embedding_function = embeddings)"
   ]
  },
  {
   "cell_type": "code",
   "execution_count": null,
   "metadata": {},
   "outputs": [],
   "source": [
    "# Basic Retriever example\n",
    "\n",
    "from langchain.chains import RetrievalQA\n",
    "from langchain.memory import ConversationBufferMemory\n",
    "from langchain.chains import ConversationalRetrievalChain\n",
    "\n",
    "question = \"How many poles shoul my electromotor have, and what should I do if I have the wrong number?\"\n",
    "qa_chain = RetrievalQA.from_chain_type(llm = llm, retriever = vectorstore.as_retriever())\n",
    "print(qa_chain({\"query\": question}))"
   ]
  },
  {
   "cell_type": "code",
   "execution_count": null,
   "metadata": {},
   "outputs": [],
   "source": [
    "# Retriever with memory example\n",
    "\n",
    "from langchain.chains import RetrievalQA\n",
    "from langchain.memory import ConversationBufferMemory\n",
    "from langchain.chains import ConversationalRetrievalChain\n",
    "\n",
    "memory = ConversationBufferMemory(memory_key = \"chat_history\", return_messages = True)\n",
    "retriever = vectorstore.as_retriever()\n",
    "qa = ConversationalRetrievalChain.from_llm(llm = llm, retriever = retriever, memory = memory)\n",
    "question = input()\n",
    "print(f\"Question: {question}\")\n",
    "print(f\"Answer: {qa({'question': question})['answer']}\")\n",
    "question = input()\n",
    "print(f\"Question: {question}\")\n",
    "print(f\"Answer: {qa({'question': question})['answer']}\")"
   ]
  },
  {
   "cell_type": "code",
   "execution_count": null,
   "metadata": {},
   "outputs": [],
   "source": []
  }
 ],
 "metadata": {
  "kernelspec": {
   "display_name": "base",
   "language": "python",
   "name": "python3"
  },
  "language_info": {
   "codemirror_mode": {
    "name": "ipython",
    "version": 3
   },
   "file_extension": ".py",
   "mimetype": "text/x-python",
   "name": "python",
   "nbconvert_exporter": "python",
   "pygments_lexer": "ipython3",
   "version": "3.10.9"
  },
  "orig_nbformat": 4
 },
 "nbformat": 4,
 "nbformat_minor": 2
}
