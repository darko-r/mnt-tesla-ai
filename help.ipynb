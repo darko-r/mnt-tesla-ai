{
 "cells": [
  {
   "cell_type": "code",
   "execution_count": 64,
   "metadata": {},
   "outputs": [],
   "source": [
    "from langchain.agents import AgentExecutor, create_openai_tools_agent, create_react_agent\n",
    "from langchain_openai import ChatOpenAI\n",
    "from langchain_core.utils.function_calling import convert_to_openai_function\n",
    "from langchain.pydantic_v1 import BaseModel, Field\n",
    "from langchain.tools import BaseTool, StructuredTool, tool\n",
    "from langchain_community.agent_toolkits import JsonToolkit\n",
    "from langchain_community.tools.json.tool import JsonSpec\n",
    "from langchain.agents import create_json_agent\n",
    "from langchain_community.utilities.gitlab import GitLabAPIWrapper\n",
    "from langchain.callbacks import get_openai_callback\n",
    "from langchain_community.tools.tavily_search import TavilySearchResults\n",
    "from langchain.agents import Tool\n",
    "from langchain_experimental.utilities import PythonREPL\n",
    "from langchain import hub\n",
    "from typing import Optional, Type\n",
    "from langchain.callbacks.manager import AsyncCallbackManagerForToolRun, CallbackManagerForToolRun\n",
    "from typing import List\n",
    "from langchain_community.agent_toolkits.base import BaseToolkit\n",
    "import dateparser\n",
    "import operator\n",
    "import datetime\n",
    "import json\n",
    "import re\n"
   ]
  },
  {
   "cell_type": "code",
   "execution_count": 65,
   "metadata": {},
   "outputs": [],
   "source": [
    "llm = ChatOpenAI(model=\"gpt-4-0613\", temperature=0)\n",
    "data = json.load(open('metadata.json'))\n",
    "data1 = json.load(open('metadata1.json'))"
   ]
  },
  {
   "cell_type": "code",
   "execution_count": 81,
   "metadata": {},
   "outputs": [],
   "source": [
    "relevant_keys = ['title', 'date', 'source', 'type', 'register_num']\n",
    "ops = {\n",
    "    \"and\": operator.and_,\n",
    "    \"or\": operator.or_,\n",
    "    \"==\": operator.eq,\n",
    "    \"!=\": operator.ne,\n",
    "    \"<\": operator.lt,\n",
    "    \"<=\": operator.le,\n",
    "    \">\": operator.gt,\n",
    "    \">=\": operator.ge \n",
    "}\n",
    "prior = {\n",
    "    \"and\": 1,\n",
    "    \"or\": 1,\n",
    "    \"==\": 0,\n",
    "    \"!=\": 0,\n",
    "    \"<\": 0,\n",
    "    \"<=\": 0,\n",
    "    \">\": 0,\n",
    "    \">=\": 0\n",
    "}\n",
    "\n",
    "def format_string(s):\n",
    "    relevant_keys = ['title', 'date', 'source', 'type', 'register_num']\n",
    "    for relevant_key in relevant_keys:\n",
    "        s = s.replace(relevant_key, f\"e.d['{relevant_key}']\")\n",
    "\n",
    "    types = ['lecture', 'article', 'patent']\n",
    "    for type_ in types:\n",
    "        s = s.replace(type_, f\"'{type_}'\")\n",
    "\n",
    "    s = s.replace(\"e.d['date']\", \"datetime.datetime.strptime(e.d[\\'date\\'], \\'%Y-%m-%d\\')\")\n",
    "\n",
    "    def replace_four_digit_numbers(text):\n",
    "        pattern = r\"\\b(\\d{4})\\b\"\n",
    "        return re.sub(pattern, r\"dateparser.parse('\\1')\", text)\n",
    "\n",
    "    return replace_four_digit_numbers(s)\n",
    "\n",
    "class JsonCondition():\n",
    "    def __init__(self, d: dict):\n",
    "        self.d = d\n",
    "\n",
    "    def fun(self, v1, op, v2) -> bool:\n",
    "        print(f\"executing {v1} {op} {v2}\")\n",
    "        if op in ['or', 'and']:\n",
    "            return ops[op](v1, v2)    \n",
    "        if v1 == 'date':\n",
    "            dict_value = datetime.datetime.strptime(self.d[v1], '%Y-%m-%d')\n",
    "            value = dateparser.parse(v2)\n",
    "        else:\n",
    "            dict_value = self.d[v1]\n",
    "            value = v2\n",
    "        return ops[op](dict_value, value)\n",
    "    \n",
    "    def condition_parse(self, condition: str) -> bool:\n",
    "        print(self.d['id'])\n",
    "        l = condition.split(' ')\n",
    "        maxPrior = 1\n",
    "        print(l)\n",
    "        for priorMode in range(maxPrior+1):\n",
    "            # loop in one priority while\n",
    "            while True:\n",
    "                new_l = l.copy()\n",
    "                print(l)\n",
    "                print(\"----\")\n",
    "                change = False\n",
    "                for ind, element in enumerate(new_l):\n",
    "                    if element in ops:\n",
    "                        priorLev = prior[element]\n",
    "                        if priorLev <= priorMode:\n",
    "                            print(l)\n",
    "                            element_prev = l[ind-1]\n",
    "                            element_next = l[ind+1]\n",
    "                            res = self.fun(element_prev, element, element_next)\n",
    "                            ind = l.index(element_prev)\n",
    "                            l.remove(element_prev)\n",
    "                            l.remove(element_next)\n",
    "                            l.remove(element)\n",
    "                            l.insert(ind, res)\n",
    "                            change = True\n",
    "                if not change:\n",
    "                    break\n",
    "        print(l[0])\n",
    "\n",
    "class TeslaToolGetDocuments(BaseTool):\n",
    "    name = \"tesla_tool_get_documents\"\n",
    "    description = \"\"\"\n",
    "    Can be used to list all relevant Nikola Tesla document entries from a dictionary in memory based on a condition.\n",
    "    All entries are about documents written by Nikola Tesla, so don't consider him a source, sources are only considered for article publishers.\n",
    "    Fields that are available for search are title(str), date(str), source(str), type(str, possible values lecture, article, patent), register_num(str)\n",
    "    Operations that are available for search are \"or, and, ==, <=, >=, <, >, !=\"\n",
    "    The tool takes as input a string representing conditions for search delimited with a single whitespace.\n",
    "    Example tool input:\n",
    "        type == lecture and date < 1905 and date > 1900\n",
    "    \"\"\"\n",
    "    return_direct: bool = True\n",
    "\n",
    "    data: List\n",
    "    \n",
    "    def _run(self, tool_input: str, run_manager: Optional[CallbackManagerForToolRun] = None\n",
    "    ) -> str:\n",
    "        \"\"\"Use the tool.\"\"\"\n",
    "        # return [e.d['title'] for e in self.data if e.condition_parse(tool_input)]\n",
    "        print(format_string(tool_input))\n",
    "        return [e.d['title'] for e in self.data if eval(format_string(tool_input))]\n",
    "\n",
    "    async def _arun(\n",
    "        self, tool_input: str, run_manager: Optional[AsyncCallbackManagerForToolRun] = None\n",
    "    ) -> str:\n",
    "        \"\"\"Use the tool asynchronously.\"\"\"\n",
    "        self._run(tool_input)"
   ]
  },
  {
   "cell_type": "code",
   "execution_count": 69,
   "metadata": {},
   "outputs": [],
   "source": [
    "s = 'type == article or type == patent and date >= 1901 and date <= 1905'\n",
    "new_s = format_string(s)"
   ]
  },
  {
   "cell_type": "code",
   "execution_count": null,
   "metadata": {},
   "outputs": [],
   "source": [
    "l = [JsonCondition(d = dict_) for dict_ in data]\n",
    "x = [ll for ll in l if ll.d['id'] == '13'][0]\n",
    "x.condition_parse(s)"
   ]
  },
  {
   "cell_type": "code",
   "execution_count": 82,
   "metadata": {},
   "outputs": [],
   "source": [
    "l = [JsonCondition(d = dict_) for dict_ in data]\n",
    "custom_tool = TeslaToolGetDocuments(data=l)\n",
    "llm = ChatOpenAI(model=\"gpt-3.5-turbo-1106\")\n",
    "tools = [custom_tool]\n",
    "prompt = hub.pull(\"hwchase17/react\")"
   ]
  },
  {
   "cell_type": "code",
   "execution_count": 83,
   "metadata": {},
   "outputs": [],
   "source": [
    "agent = create_react_agent(llm, tools, prompt)\n",
    "agent_executor = AgentExecutor(agent=agent, tools=tools, verbose=True)"
   ]
  },
  {
   "cell_type": "code",
   "execution_count": 84,
   "metadata": {},
   "outputs": [
    {
     "name": "stdout",
     "output_type": "stream",
     "text": [
      "\n",
      "\n",
      "\u001b[1m> Entering new AgentExecutor chain...\u001b[0m\n",
      "\u001b[32;1m\u001b[1;3mI should use the tesla_tool_get_documents to search for articles and patents written by Nikola Tesla between 1901 and 1905.\n",
      "Action: tesla_tool_get_documents\n",
      "Action Input: type == article or type == patent and date >= 1901 and date <= 1905\u001b[0me.d['type'] == 'article' or e.d['type'] == 'patent' and datetime.datetime.strptime(e.d['date'], '%Y-%m-%d') >= dateparser.parse('1901') and datetime.datetime.strptime(e.d['date'], '%Y-%m-%d') <= dateparser.parse('1905')\n",
      "\u001b[36;1m\u001b[1;3m['Signals to Mars Based on Hope of Life on Planet', \"Nikola Tesla Tells of Country's War Problems\", \"Tesla's New Discovery\", 'Tesla and Marconi', \"Mr. Tesla's Vision\", 'My Apparatus, Says Tesla', 'Sleep From Electricity', 'Can Bridge the Gap to Mars', 'Mr. Tesla on the Wireless Transmission of Power', 'Nikola Tesla Objects', 'Wireless on Railroads', \"Tesla's Wireless Torpedo\", 'The Future of the Wireless Art', 'Tesla on the Peary North Pole Expedition ', 'Reference to Compass in 13th Century Poem', 'Nikola Tesla Writes (Additional Comments on Electrostatic Generators)', 'Mr. Tesla on the Future', \"Some Experiments in Tesla's Laboratory with Currents of High Potential and High Frequency\", 'Tesla Describes His Efforts in Various Fields of Work', 'Electricity to Tame Wild Beasts Tesla on Animal Training by Electricity', 'Tesla on the Hurtful Actions of Lenard and Roentgen Tubes', 'Roentgen Rays or Streams', 'Tesla Describes an Interesting Feature of the X-ray Radiations', \"Tesla's Latest Results He Now Produces Radiographs at a Distance of More Than Forty Feet\", 'Dr. Tesla Talks of Gas Turbines', \"Tesla's New Monarch of Machines\", 'The Wonder World to be Created by Electricity', \"Tesla's Tidal Wave to Make War Impossible\", 'Tuned Lightning', 'A Striking Tesla Manifesto', 'On Current Interrupters', 'On Electricity', 'Nikola Tesla Sees a Wireless Vision', 'Wonders of the Future', 'The New Art of Projecting Concentrated Non-dispersive Energy Through Natural Media', 'Tesla Predicts Ships Powered by Shore Beam', 'A New System of Alternate Current Motors and Transformers', 'Phenomena of Alternating Currents of Very High Frequency', 'Experiments with Alternate Currents of High Potential and High Frequency', 'Plans to Dispense with Artillery of the Present Type', ' Electrical Oscillator Activity Ten Million Horsepower', \"Electric Autos - Nikola Tesla's View of the Future in Motive Power\", 'Story of Youth Told by Age', \"Tesla's Reply to Edison \", 'What Science May Achieve This Year - New Mechancial Principle for Conservation of Energy', 'The Disturbing Influence of Solar Radiation on the Wireless Transmission of Energy', 'How Cosmic Forces Shape Our Destinies', 'A Lighting Machine on Novel Principles', 'Developments in Practice and Art of Telephotography', 'Mr. Tesla Speaks Out', \"Letter to Editor (On Marconi's feat)\", \"Man's Greatest Achievement\", 'Dr. Tesla Writes of Various Phases of His Discovery', 'Pioneer Radio Engineer Gives Views on Power', 'Mr. Tesla Writes (Refers to J. P. Morgan)', 'Tesla on Power Development and Future Marvels', 'Tribute to King Alexander', 'Expanding Sun Will Explode Someday Tesla Predicts', 'Prepared Statement of Tesla (For Interview With Press on 81st Birthday Observance)', 'METHOD OF INTENSIFYING EFFECTS TRANSMITTED THROUGH NATURAL MEDIA', 'APPARATUS FOR UTILIZING EFFECTS TRANSMITTED FROM A DISTANCE TO A RECEIVING DEVICE THROUGH NATURAL MEDIA', 'METHOD OF UTILIZING EFFECTS TRANSMITTED THROUGH NATURAL MEDIA', \"Dr. Tesla's Honours\", 'Text of Tesla Speech for the Institute of Immigrant Welfare', 'The Soviet Sacrifice of Spain', 'APPARATUS FOR UTILIZING EFFECTS TRANSMITTED THROUGH NATURAL MEDIA', 'MEANS FOR INCREASING THE INTENSITY OF ELECTRICAL OSCILLATIONS', 'On Roentgen Rays Latest Results', 'Roentgen Ray Investigations', \"Tesla's Latest Advances in Vacuum Tube Lighting\", 'From Nikola Tesla', 'SYSTEM OF SIGNALING', \"Nikola Tesla's Forecats for 1908\", 'METHOD OF SIGNALING', 'APPARATUS FOR THE UTILIZATION OF RADIANT ENERGY', 'METHOD OF UTILIZING  RADIANT ENERGY', 'Mind Reading', 'Deadly Wave', \"Mr. Tesla's Lecture at the Congress\", 'Did The War Cause the Italian Earthquake', 'Digest Electricity', 'Digest Roentgen Ray Investigation', 'Dissipation of Energy', 'Nikola Tesla ', 'Electric Discharge in Vacuum Tubes ', 'Famous Scientific Illusions', 'My Inventions - Part Six - The Art of Telautomatics', 'Has Nikola Tesla Spoken With Mars', '\"Massage\" with Currents of High Frequency', \"Mr. Tesla's Invention \", 'My Inventions - My First Efforts in Invention', \"Mr. Tesla's Patents\", 'Nikola Tesla II', \"An Analysis of Tesla's Work\", \"Mr. Tesla's Praises Professor Langley \", 'From Nikola Tesla', 'His Friends to Mr. Tesla (Mr. Tesla to His Friends)', 'Our Great Patent Office', 'Letters From Herald Readers', 'Letters From Herald Readers II', 'Mr. Nikola Tesla on Alternating Current Motors', 'Mr. Nikola Tesla on the Ganz Alternating-Current Motors', 'Patents in Germany', 'Tesla Demands an Apology', \"Nikola Tesla's Lecture on Oscillators at the Worlds Fair\", 'Letter Subway Electric Traction ', \"Nikola Tesla's Plan to Keep Wireless Thumb on Ships at Sea \", 'Submerged Vessel, He Says Can Go 65 Miles', 'Santos-Dumonts Speed ', 'Santos-Dumont Experiment', 'Mr. Tesla On Gliding Boat', 'Communication With Planets ', 'Possibility of Wireless', 'A Talk by Nikola Tesla', 'Poem by Luka Filipov (Translation by Nikola Tesla)', 'Alternate Current Motors', 'An Electrolytic Clock', \"Christmas upon Adriatic's Shores\", 'Problems of Aerial Motive Power', 'Science and Philosophy - What is Electricity?', 'Coast Ports Basic Factor', \"Science - Tesla's New X-ray Experiments\", 'Signaling to Mars - A Problem of Electrical Engineering', 'Swinburne\\'s \"Hedgehog\" Transformer', 'Correspondence - Tesla Answers Mr. Mannierre', \"Tesla's Lecture at Royal Institution\", 'Nikola Tesla Tells How We May Fly Eight Miles High at 1000 Miles an Hour', 'Poem a Mother of Bosnia', 'Tesla Thinks Wind Power Should be Used More Now ', \"Tesla's Electrical Condenser\", 'The Action of the Eye', 'The Transmission of Electric Energy Without Wires ', 'Alternate Currents of High Potential and High Frequency', 'Torpedo Boat Without a Crew', 'On Light and Other High Frequency Phenomena', 'A Letter From Mr. Tesla', 'Tesla Describes His Investigations', 'Tesla Sneers At Gliding Craft', \"Letters to the Editor - Tesla's New Alternating Motors\", 'Letter to Editor of the Electrical Experimenter', \"Tesla's Wireless Patents\", 'Wireless Aerial Navigation', 'Tesla on Current Interrupters', 'Letter Tesla', 'Wireless Around the World', 'On Light and Other High Frequency Phenomena III', 'Tesla on Reflected Roentgen Rays', 'Chewing Gum More Fatal Than Rum', 'Some Personal Recollections', 'Correction by Mr. Tesla', 'How to Signal to Mars', 'Tesla on Aeroplanes', 'Little Aeroplane Progress', 'Radio Power Will Revolutionize the World', ' Interplanetary Communication ', 'Tesla on Subway Dangers ', 'From Nikola Tesla (A Tribute to George Westinghouse) ', 'The Transmission of Electrical Energy Without Wires As a Means for Furthering Peace ', 'Tesla on Roentgen Radiations', 'Tesla on Wireless', 'Tesla on Roentgen Streams', \"Tesla's Caustic Letter\", 'The New Subway', \"Tesla's Letter to Gernsbeck\", 'Possibilities of Electro-Static Generators', 'Breaking Up Tornadoes', 'World System of Wireless Transmission of Energy', 'Our Future Motive Power', 'The Effect of Statics on Wireless Transmission', 'The Effect of Statics on Wireless Transmission', 'Tesla on High Frequency Generators', \"500, 000 Volts of Electricity Passed Through the Body to Cure Consumption - Tesla's Idea\", 'Nikola Tesla Shows How Men of the Future May Become as Gods ', \"The Moon's Rotation 1\", 'Nikola Tesla Says We Will Soon Be Talking Clear Around the World  ', 'The True Wireless', 'Electrical Oscilators', 'Only a Matter of Patience Now, Says Tesla', 'The Losses Due to Hysteresis in Transformers', 'Correspondence - Alternate Current Motors ', 'Wonderful Pranks of the New Electricity', 'Electro-motors', 'Why the Martians Will Answer Our Signals', 'Electrical Control of the Weather Will Soon Be an Accomplished Fact', 'Nikola Tesla I ', \"How We've Misunderstood Wireless\", \"The Fallacy of Franklin's  Pointed Lightning  Rod\", 'The Illusion of the Axial Rotation of the Moon', 'My Inventions, Part Four - The Discovery of the Tesla Coil and Transformer', 'Alternate Current Electrostatic Induction Apparatus', 'Experiments with Alternate Currents of Very High Frequency and Their Application to Methods of Artificial Illumination ', \"Mr. Tesla's Paper before the Electro-Therapeutic Society\", ' Nikola Tesla Declares Electric Drive for Battle Ships Superior to Any Other Form of Equipment', \"Tesla's Latest Advances in Vacuum - Tube Lighting \", 'Notes on Unipolar Dynamo', 'On the Dissipation of the Electrical Energy of the Hertz Resonator', 'The Ewing High Frequency Alternator and Parsons Steam Turbine', 'The Physiological and Other Effects of High Frequency Currents', 'On Apparatus for Cathography', 'My Submarine Destroyer', 'Tesla and His Work', 'On the Source of Roentgen Rays and the Practical Construction and Safe Operation of Lenard Tubes', 'Tesla on the Source of Roentgen Rays and the Practical Construction and Safe Operation of Lenard Tubes', 'On Roentgen Rays', 'Talking with the Planets', 'My Inventions - My Later Endeavors - The Discovery of the Rotating Magnetic Field', \"The Moon's Rotation 2\", 'A Letter from Mr. Tesla', 'Are You Interested in Autographs?', 'By Nikola Tesla, the Famous Inventor and Electrician', 'Cleansing Power of Electricity', \"Decides Against America's Claim\", 'Electrical Lightning Discharges', 'Electricity in the Twentieth Century', 'Electricity Without Wires', 'Experiments with Alternating Currents of High Frequency', 'In All Elevating Features', 'Inventor Tesla Replies to Dr. Louis Duncan, Explaining His Alternating Current Motor', 'Letter from Nikola Tesla - No Tittle', 'Method of Signaling', 'My Inventions - My Early Life', 'My Inventions - The Magnifying Transmitter', 'Naval Battles Won by Tidal Waves', 'Nicolas Tesla', 'Origin of the Word Pogrom', 'Phenomena of Currents of High Frequency*', 'Science and Discovery Are the Great Forces Which Will Lead to the Consummation of the War*', 'Science Will Aid, Says Savant Tesla', 'The Latest Contribution to the Discussion of the Roentgen Ray Phenomena', 'Telegraphing Without Wires', \"Tesla Dashes Polar Cup from Nation's Lips - Trip by Dirigible Balloon Easy*\", 'Tesla on Electrocution', 'Tesla on the New York Subway', 'Tesla Perfecting a War Engine', \"Tesla's Destroyer\", 'The Age of Electricity', 'The Distinguished Electrician and Inventor', 'The Mission of Science', 'To the Editor of the New York Sun*', 'Wastefulness of War', 'What Nikola Tesla Says', 'What Scientists Say', 'Will the Complete Mastery of the Air be Attained?*', 'Wireless Messages Beyond the Ocean', 'Wonders in Electricity', 'Zmai Iovan Iovanovich', 'The Problem of Increasing Human Energy', 'On Light and Other High Frequency Phenomena II']\u001b[0m\n",
      "\u001b[32;1m\u001b[1;3m\u001b[0m\n",
      "\n",
      "\u001b[1m> Finished chain.\u001b[0m\n"
     ]
    }
   ],
   "source": [
    "res = agent_executor.invoke({\"input\": \"can you give me the list of articles and patents of Nikola Tesla between 1901 and 1905?\"})"
   ]
  },
  {
   "cell_type": "code",
   "execution_count": 80,
   "metadata": {},
   "outputs": [
    {
     "data": {
      "text/plain": [
       "248"
      ]
     },
     "execution_count": 80,
     "metadata": {},
     "output_type": "execute_result"
    }
   ],
   "source": [
    "len(res['output'])"
   ]
  },
  {
   "cell_type": "code",
   "execution_count": 92,
   "metadata": {},
   "outputs": [],
   "source": [
    "o1 = [e.d['title'] for e in custom_tool.data if e.d['type'] == 'article' or e.d['type'] == 'patent' and datetime.datetime.strptime(e.d['date'], '%Y-%m-%d') >= dateparser.parse('1901') and datetime.datetime.strptime(e.d['date'], '%Y-%m-%d') <= dateparser.parse('1905')]"
   ]
  },
  {
   "cell_type": "code",
   "execution_count": 93,
   "metadata": {},
   "outputs": [
    {
     "data": {
      "text/plain": [
       "True"
      ]
     },
     "execution_count": 93,
     "metadata": {},
     "output_type": "execute_result"
    }
   ],
   "source": [
    "o1 == res['output']"
   ]
  },
  {
   "cell_type": "code",
   "execution_count": null,
   "metadata": {},
   "outputs": [],
   "source": []
  }
 ],
 "metadata": {
  "kernelspec": {
   "display_name": "base",
   "language": "python",
   "name": "python3"
  },
  "language_info": {
   "codemirror_mode": {
    "name": "ipython",
    "version": 3
   },
   "file_extension": ".py",
   "mimetype": "text/x-python",
   "name": "python",
   "nbconvert_exporter": "python",
   "pygments_lexer": "ipython3",
   "version": "3.12.2"
  }
 },
 "nbformat": 4,
 "nbformat_minor": 2
}
