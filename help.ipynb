{
 "cells": [
  {
   "cell_type": "code",
   "execution_count": 19,
   "metadata": {},
   "outputs": [],
   "source": [
    "import os\n",
    "from docx import Document\n",
    "\n",
    "\n",
    "directory = os.path.join('docx_docs', 'patents')\n",
    "docs = {}\n",
    "for file in os.listdir(directory):\n",
    "    # print(os.getcwd())\n",
    "    doc = Document(os.path.join(os.getcwd(), directory, file))\n",
    "    fullText = []\n",
    "    for para in doc.paragraphs:\n",
    "        fullText.append(para.text)\n",
    "    docs[file] = ' '.join(fullText)\n"
   ]
  },
  {
   "cell_type": "code",
   "execution_count": 23,
   "metadata": {},
   "outputs": [
    {
     "ename": "AttributeError",
     "evalue": "'list' object has no attribute 'lower'",
     "output_type": "error",
     "traceback": [
      "\u001b[0;31m---------------------------------------------------------------------------\u001b[0m",
      "\u001b[0;31mAttributeError\u001b[0m                            Traceback (most recent call last)",
      "Cell \u001b[0;32mIn[23], line 3\u001b[0m\n\u001b[1;32m      1\u001b[0m count \u001b[38;5;241m=\u001b[39m \u001b[38;5;241m0\u001b[39m\n\u001b[1;32m      2\u001b[0m \u001b[38;5;28;01mfor\u001b[39;00m doc \u001b[38;5;129;01min\u001b[39;00m docs:\n\u001b[0;32m----> 3\u001b[0m     \u001b[38;5;28;01mif\u001b[39;00m \u001b[38;5;124m\"\u001b[39m\u001b[38;5;124munited states\u001b[39m\u001b[38;5;124m\"\u001b[39m \u001b[38;5;129;01min\u001b[39;00m \u001b[43mdocs\u001b[49m\u001b[43m[\u001b[49m\u001b[43mdoc\u001b[49m\u001b[43m]\u001b[49m\u001b[38;5;241;43m.\u001b[39;49m\u001b[43mlower\u001b[49m():\n\u001b[1;32m      4\u001b[0m         count \u001b[38;5;241m+\u001b[39m\u001b[38;5;241m=\u001b[39m \u001b[38;5;241m1\u001b[39m\n\u001b[1;32m      5\u001b[0m         \u001b[38;5;28mprint\u001b[39m(doc)\n",
      "\u001b[0;31mAttributeError\u001b[0m: 'list' object has no attribute 'lower'"
     ]
    }
   ],
   "source": [
    "count = 0\n",
    "for doc in docs:\n",
    "    if \"united states\" in docs[doc].lower():\n",
    "        count += 1\n",
    "        print(doc)\n",
    "\n",
    "count\n"
   ]
  },
  {
   "cell_type": "code",
   "execution_count": 16,
   "metadata": {},
   "outputs": [
    {
     "data": {
      "text/plain": [
       "['PATENT SPECIFICATION 174, 544',\n",
       " '',\n",
       " 'Application Date: Apr. 1 1921. No. 9729/21.',\n",
       " 'Complete Left: Sept. 2. 1921.',\n",
       " 'Complete Accepted: Feb. 2, 1922.',\n",
       " '',\n",
       " 'PROVISIONAL SPECIFICATION',\n",
       " '',\n",
       " 'IMPROVEMENTS IN METHODS OF AND APPARATUS FOR THE GENERATION OF POWER BY ELASTIC FLUID TURBINES',\n",
       " '',\n",
       " 'I, Nikola Tesla, Mechanical and Electrical Engineer, citizen of United States of America, of 8, West 40th Street, New York City, U.S.A., do hereby declare the nature of this invention to be as follows:-',\n",
       " 'In the transformation of the heat of elastic media, by means of turbines, two methods are now extensively employed. In one, the working fluid is expanded through a stationary nozzle and the free jet, impinging against vanes or equivalent devices integral with the rotor, gives up to it velocity energy, thus setting it in motion by action. In the other, the fluid is admitted at full pressure to curved blades or channels in the rotor where it expands imparting energy to the same and causing it to turn by reaction. For well-known technical reasons turbine operating purely on either the first or the second principle are scarcely ever used, both processes being jointly applied in modern machines. Furthermore, almost invariably staging is resorted to with the pressure-drop and improving thereby the performance in conformity with fundamental laws of propulsion.',\n",
       " 'As is obvious from theoretical considerations and heat diagrams, the reaction turbine with pressure stages is generally capable of a higher thermodynamic efficiency because it has a bigger „reheat factor“, that is to say, it transforms into mechanical effort a considerably larger portion of friction heat than recovered in the action turbine, with velocity stages. On the other hand, it will be equally apparent that the former is more limited in the temperature range and, in view of this handicap, its superiority would not be so pronounced were it not for the fact that the relative velocity of the fluid is greater in the latter turbine, this detracting still more from its efficiency.',\n",
       " 'These respective qualities and shortcomings have been fully recognized by engineers long ago and have gradually led to the employment of impulse and reaction wheels merged into one unit which is thus better adapted for meeting the requirements and should be more economical. But although this idea seems sound, the temperature range has not been very much increased through its application and in gain, so far effected, is moderate indeed, to the point of being doubtful in many instances. Definite limits to progress in this direction have been reached in the existing commercial apparatus and the discovery of other ways and means for saving fuel and reducing the cost of installment and operation has become a problem rendered especially pressing throughout the world by the greatly increased cost of this commodity.',\n",
       " 'The advantages of the action and reaction principles can be more completely realized through a process which constitutes my present invention and, briefly stated, consists in deriving motive power from the heat of an elastic medium first by means of friction and then by reaction. The best instrumentalities for the purpose, of which I am aware, are a turbine of the kind described in my British Patent No. 24, 001 of 1910 and one of Parsons type, both being connected or worked independently. The fluid is admitted to my tribune through a suitable nozzle which may be expanding, straight or converging, and in traversing the spaces between the disks exercises a frictional drag, thus transforming a part of the available heat into mechanical work. Upon exhausting under proper temperature and pressure conditions it is passed through the Parsons turbine which another portion of its caloric energy is usefully converted by reaction. Careful scientific investigation, supported by experiment, has shown that important economic results can be secured by the new method and that this particular combination of apparatus possesses features of unusual merit.',\n",
       " 'In the first place my turbine is exceedingly suited for very elevated temperatures and also high pressures, while the Parsons excels in the efficiency of the thermos-dynamic transformation at moderate temperatures and low pressures. Again, the former permits the fluid to be expanded either in the nozzle, the rotor or both, and this flexibility facilitates the establishment and maintenance of pressure and temperature conditions favorable to both turbines, thus enhancing economy. Their combination is, however, of quite exceptional value in cases when reversible units are indispensable, as on shipboard, where it provides a simpler, more efficient and far more effective apparatus for forward propulsion as well as backing, my turbine being much better adapted for reversing purposes the other forms with small clearances and delicate blading easily damaged.',\n",
       " 'While my turbine will yield the best results in co-operation with the Parsons it is eminently qualified to serve as first stage, or stages, in conjunction with other types of turbines, of whatever kind, also with rotary and reciprocating engines, and in this broader sense my improved process may be defined as one in which the available heat of an elastic medium is usefully transformed first by friction, as indicated, and then by action or reaction.',\n",
       " '',\n",
       " 'Dated this 31st day of March, 1921.',\n",
       " 'Nikola Tesla ',\n",
       " '',\n",
       " 'COMPLETE SPECIFICATION',\n",
       " '',\n",
       " 'Improvements in Methods of and Apparatus for the Generation of Power by Elastic Fluid Turbines',\n",
       " '',\n",
       " 'I, Nikola Tesla, Electrical and Mechanical Engineer, citizen of the United States of America, of 8, West 40th Street, New York, N.Y., U.S.A., do hereby declare the nature of this invention and in what manner the same is to be performed, to be particularly described and ascertained in and by the following statement:-',\n",
       " 'In the transformation of the heat energy of elastic media, by means of turbines, two methods are now extensively employed. In one, the working fluid is expanded through a stationary nozzle and the free jet, impinging against vanes or equivalent devices integral with the rotor, gives up to it velocity energy, thus setting it in motion by action. In the other, the fluid is admitted at full pressure to curved blades or channels in the rotor where it expands imparting energy to the same and causing it to turn by reaction. For well-known technical reasons turbines operating purely on either the first or the second principle are scarcely ever used, both processes being jointly applied in modern machines. Furthermore, almost invariably staging is resorted to with the object of subdividing the velocity – and pressure-drop and improving thereby the performance in conformity with fundamental laws of propulsion.',\n",
       " 'As is obvious from theoretical considerations and heat diagrams, the reaction turbine with pressure stages is generally capable of a higher thermodynamic efficiency because it has a bigger “reheat factor”, that is to say, it transforms into mechanical effort a considerably larger portion of friction heat than is recovered in the action turbine, with velocity stages. On the other hand, it will be equally apparent that the former is more limited in the temperature range and, in view of this handicap, its superiority would not be so pronounced were it not for the fact that usually the relative velocity of the fluid is greater in the latter turbine, this detracting still more from its efficiency.',\n",
       " 'These respective qualities and shortcomings have long been recognized by engineers and have gradually led to the employment of impulse and reaction-wheels merged into one unit which is thus better adapted for meeting the requirements and should be more economical. But although this idea seems sound, the temperature range has not been very much increased through its application and the gain, so far effected, is moderate indeed, to the point being doubtful in many instances, definite limits to progress in this direction have been reached in the existing commercial apparatus and the discovery of other ways and means for saving fuel and reducing the cost of installation has become a problem rendered especially pressing throughout the world by the greatly increased cost of this commodity.',\n",
       " 'The economic advantages contemplated can be more completely realized through a process which constitutes my present invention and, briefly stated, consists in converting part of the heat energy of an elastic medium into mechanical work by friction, preferably at a high temperature, and a further part by action or reaction at the lower temperature. The best instrumentalities for the purpose, of which I am aware, are friction turbine of the kind described in my British Patent No. 24, 001 of 1910 and one of the reaction type, such as the Parsons, both being connected or worked independently. The fluid is admitted to my turbine through a suitable nozzle which may be expanding, straight or converging, and in traversing the spaces between the discs exercises a frictional drag, thus transforming a part of the available heat energy into mechanical work. Upon exhausting under proper temperature and pressure conditions it is passed through the reaction turbine in which another portion of its caloric energy is usefully converted by reaction. ',\n",
       " 'In accompanying drawings Fig.1 is intended to represent my improved turbine and one of the Parsons type operatively joined and with their shafts flexibly connected; Fig. 2 is a plan view of the same with supply conduits and inlet valves, and Fig.3 a vertical cross-section of my turbine.',\n",
       " 'Referring to figures, 1 illustrates the rotor of my turbine enclosed in a casing 2, 2, provided with two inlets 3, 3 for the working medium, nozzles 4 and 5 – one for normal operation and the other for reversal – and two exhaust openings 6, 6 which lead through c conduit 7 to the intake 8 and slide valve 9 of the Parsons turbine 10. The exhaust 11 of the latter communicates through a conduit 12 with the condenser to which is also connected a by-pass 13, branching out from exhaust pipe 7 and equipped with a valve 14. A throttle valve 15 controls the admission of the elastic fluid to my turbine which has, besides, two suitable valves 16 and 17, preferably joined by mechanical means as chain 18, enabling them to be turned together so that one will be closed tight while the other is wide open.',\n",
       " 'In normal operation valves 17 and 14 are closed and the medium is admitted to my turbine through valves 15, 18 and nozzle 4, whence it passes through the rotor 1, exhaust opening 6, 6 and pipe 7 to the intake 8 and valve 9 of the Parsons turbine 10 and, after traversing the same, is discharged through exhaust 11 and conduit 12 into the condenser, under which conditions both the turbines are actuated in the same direction, rotation taking place in the sense of the solid arrow Fig.3. When it is desired to operate in the reverse direction (indicated by the dotted arrow), valves 16 and 9 are closed and 17 and 14 opened wide, the medium entering my turbine through nozzle 5, and after passing through the rotor 1, exhaust openings 6, 6, pipe 7 and by-pass 13, discharges into the condenser. The Parsons turbine is then driven in a direction opposite to its blading but offers a relatively small resistance owing to the vacuum therein; my turbine, on the other hand, develops an amount of power much greater than when working as first described on account of its direct connection with the condenser and correspondingly increased heat drop.',\n",
       " 'Careful scientific investigation, supported by experiment, has shown that important economic results can be secured by the new method and that this particular combination of apparatus possesses features of unusual merit.',\n",
       " 'In the first place my turbine is especially suited for very elevated temperatures and also high pressures, while the Parsons is particularly adapted to thermos-dynamic transformation at moderate temperatures and low pressures. Again, the former permits the fluid to be expanded either in the nozzle, the rotor or both, and this flexibility facilitates the establishment and maintenance of pressure and temperature conditions favorable to both turbines, thus enhancing economy. Their combination is, however, of quite exceptional value in cases when reversible units are indispensable, as on shipboard, where it provides a simpler and more effective apparatus for forward propulsion as well as backing, my turbine being much more dependable than the present forms with buckets and blades which are very liable to deterioration and easily damaged.',\n",
       " 'In the use of different types, as here contemplated, the individual heat drops in them may be considerably varied in magnitude, but to give a practical example I would say that very good results, when working with superheated steam alone, are obtainable by admitting the steam to the nozzle of the friction turbine at about 1100 degrees F, and exhausting it at approximately 550 degrees F, into a reaction turbine capable of operating safely at that temperature.',\n",
       " 'While my turbine in such combinations will yield the best results in co-operation with the Parsons, it is eminently qualified to serve as first stage, or stages, in conjunction with other types of turbines, of whatever kind; also with rotary and reciprocating engines, and in this boarder sense my improved process may be defined as one in which the available heat energy of an elastic fluid is usefully transformed first by friction, as indicated, and then by action or reaction.',\n",
       " 'Having now particularly described and ascertained the nature of my said invention, and in what manner the same is to be performed, I declare that what I claim is:-',\n",
       " '1. The improved method of thermodynamic transformation which consist in converting a part of the heat energy of an elastic fluid by disc friction and a further part by blade action, substantially as described.',\n",
       " '2. The hereinbefore described process of transforming the heat energy of an elastic fluid into rotary mechanical work which consists in converting a part of the energy of the fluid by friction at high temperature and a further part by action and/or reaction at a lower temperature, substantially as described.',\n",
       " '3. In the conversion of heat energy of elastic fluids the combination of the friction and reaction type of turbine, as described.',\n",
       " '4. The combined use of a friction turbine of the kind described with an action and reaction engine in the transformation of the heat energy of elastic fluids into mechanical work. ',\n",
       " '5. The combination of a friction turbine of the type described with a turbine of the reaction type mounted on the same shaft or on connected shafts to form an operative unit for the transformation of the heat energy of elastic fluids into mechanical work.',\n",
       " '6. The combination of a friction and a reaction turbine of the types described connected to form a power unit so that both may operate together in one direction or be driven in the opposite direction by the friction turbine, the reaction turbine running idle, as described.',\n",
       " '',\n",
       " 'Dated the 23rd day of August, 1921.',\n",
       " '',\n",
       " 'Nikola Tesla',\n",
       " '',\n",
       " '']"
      ]
     },
     "execution_count": 16,
     "metadata": {},
     "output_type": "execute_result"
    }
   ],
   "source": [
    "docs[0]"
   ]
  },
  {
   "cell_type": "code",
   "execution_count": null,
   "metadata": {},
   "outputs": [],
   "source": []
  }
 ],
 "metadata": {
  "kernelspec": {
   "display_name": "base",
   "language": "python",
   "name": "python3"
  },
  "language_info": {
   "codemirror_mode": {
    "name": "ipython",
    "version": 3
   },
   "file_extension": ".py",
   "mimetype": "text/x-python",
   "name": "python",
   "nbconvert_exporter": "python",
   "pygments_lexer": "ipython3",
   "version": "3.12.2"
  }
 },
 "nbformat": 4,
 "nbformat_minor": 2
}
