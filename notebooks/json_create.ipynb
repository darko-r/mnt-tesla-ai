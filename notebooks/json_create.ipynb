{
 "cells": [
  {
   "cell_type": "code",
   "execution_count": 86,
   "metadata": {},
   "outputs": [],
   "source": [
    "# Replace non ascii in metadata\n",
    "\n",
    "import json\n",
    "\n",
    "metadatas = json.load(open('metadata_backup.json'))\n",
    "\n",
    "ascii_replace_dict = {'â€™': '’', 'â€œ': '“', 'â€': '”', '\\u00e2\\u20ac\\u2122': '’', '\\u2019': '\\'', '\\u201d': '', '\\u201c': '', '\\u00e2\\u20ac' : '-'}\n",
    "def replace_non_ascii(s):\n",
    "    for pair_k, pair_v in ascii_replace_dict.items():\n",
    "        s = s.replace(pair_k, pair_v)\n",
    "    return s\n",
    "\n",
    "for metadata in metadatas:\n",
    "    metadata['file_url'] = replace_non_ascii(metadata['file_url'])\n",
    "    metadata['title'] = replace_non_ascii(metadata['title'])\n",
    "    if 'source' in metadata.keys() and metadata['source']:\n",
    "        metadata['source'] = replace_non_ascii(metadata['source'])\n",
    "\n",
    "import json\n",
    "with open('metadata_backup.json', 'w') as f:\n",
    "    json.dump(metadatas, f)"
   ]
  },
  {
   "cell_type": "code",
   "execution_count": 31,
   "metadata": {},
   "outputs": [],
   "source": [
    "files = json.load(open('all_files.json'))\n",
    "all_filenames = [file['filename'].rsplit(\".\",1)[0] for file in files['data'] if file['filename'].split('.')[-1] == \"docx\"]"
   ]
  },
  {
   "cell_type": "code",
   "execution_count": 104,
   "metadata": {},
   "outputs": [],
   "source": [
    "all_filenames = [replace_non_ascii(f) for f in all_filenames]"
   ]
  },
  {
   "cell_type": "code",
   "execution_count": 33,
   "metadata": {},
   "outputs": [],
   "source": [
    "import json\n",
    "asst_file = json.load(open('asst_file.json'))"
   ]
  },
  {
   "cell_type": "code",
   "execution_count": 105,
   "metadata": {},
   "outputs": [],
   "source": [
    "metadatas = json.load(open('metadata_backup.json'))\n",
    "\n",
    "for metadata in metadatas:\n",
    "    file_url = metadata['file_url'].rsplit('.', 1)[0]\n",
    "    title = metadata['title']\n",
    "    if file_url in all_filenames or title in all_filenames:\n",
    "        idx = None\n",
    "        if file_url in all_filenames:\n",
    "            idx = all_filenames.index(file_url)\n",
    "        elif title in all_filenames:\n",
    "            idx = all_filenames.index(title)\n",
    "        file_OAI_id = files['data'][idx]['id']\n",
    "        metadata['file_OAI_id'] = file_OAI_id\n",
    "        metadata['assistant_OAI_id'] = next(pair for pair in asst_file if pair['file_id'] == file_OAI_id)['assistant_id']\n",
    "    else:\n",
    "        print(file_url)\n",
    "        print(title)\n",
    "        raise RuntimeError('File not found!')"
   ]
  },
  {
   "cell_type": "code",
   "execution_count": 106,
   "metadata": {},
   "outputs": [],
   "source": [
    "with open('metadata.json', 'w') as f:\n",
    "    json.dump(metadatas, f)"
   ]
  },
  {
   "cell_type": "code",
   "execution_count": 35,
   "metadata": {},
   "outputs": [],
   "source": [
    "assistants = [a_f['assistant_id'] for a_f in asst_file]"
   ]
  },
  {
   "cell_type": "code",
   "execution_count": 56,
   "metadata": {},
   "outputs": [],
   "source": [
    "assistant_summary = json.load(open('assistant_summary.json'))"
   ]
  },
  {
   "cell_type": "code",
   "execution_count": null,
   "metadata": {},
   "outputs": [],
   "source": [
    "# Summary creation\n",
    "\n",
    "from openai import OpenAI\n",
    "import time\n",
    "import re\n",
    "\n",
    "client = OpenAI()\n",
    "already_done = [a_s['assistant_id'] for a_s in assistant_summary]\n",
    "\n",
    "for assistant in assistants:\n",
    "    if assistant in already_done:\n",
    "        continue\n",
    "    print(assistant)\n",
    "    thread = client.beta.threads.create()\n",
    "\n",
    "    thread_message = client.beta.threads.messages.create(\n",
    "        thread_id = thread.id,\n",
    "        role = \"user\",\n",
    "        content = \"Create a very short summary that uses 30 completion_tokens or less… Giving only the information that will be useful when considering whether this file is needed to answer a specific question.\",\n",
    "    )\n",
    "    run = client.beta.threads.runs.create(\n",
    "        thread_id = thread.id,\n",
    "        assistant_id = assistant\n",
    "    )\n",
    "    run = client.beta.threads.runs.retrieve(\n",
    "        thread_id=thread.id,\n",
    "        run_id=run.id\n",
    "    )\n",
    "\n",
    "    while run.status != \"completed\":\n",
    "        run = client.beta.threads.runs.retrieve(\n",
    "            thread_id=thread.id,\n",
    "            run_id=run.id\n",
    "        )\n",
    "        time.sleep(1)\n",
    "\n",
    "    messages = client.beta.threads.messages.list(thread_id=thread.id)\n",
    "    last_msg = max(messages.data, key = lambda x: x.created_at)\n",
    "    response = re.sub('【.*】', '', last_msg.content[0].text.value)\n",
    "    assistant_summary.append({'assistant_id': assistant, 'summary': response})\n",
    "    time.sleep(1)\n",
    "\n",
    "with open('assistant_summary.json', 'w') as f:\n",
    "    json.dump(assistant_summary, f)"
   ]
  },
  {
   "cell_type": "code",
   "execution_count": 53,
   "metadata": {},
   "outputs": [],
   "source": [
    "with open('assistant_summary.json', 'w') as f:\n",
    "    json.dump(assistant_summary, f)"
   ]
  },
  {
   "cell_type": "code",
   "execution_count": 25,
   "metadata": {},
   "outputs": [
    {
     "data": {
      "text/plain": [
       "'Experiments with Alternate Currents of High Potential and High Frequency\\nby Nikola Tesla\\n\\n\\xa0\\nThe Inventions Researches and Writings of Nikola Tesla- by Thomas Commerford Martin Editor -\\xa0Chapter XXVIIPg 198\\n\\n\\n\\n\\xa0\\n\\xa0\\nI cannot find words to express how deeply I feel the honor of addressing some of the foremost thinkers of the present time and so many able scientific men engineers and electricians of the country greatest in scientific achievements.\\xa0\\nThe results which I have the honor to present before such a gathering I cannot call my own. There are among you not a few who can lay better claim than myself on any feature of merit which this work may contain. I need not mention many names which are world-known—names of those among you who are recognized as the leaders in this enchanting science; but one at least I must mention—a name which could not be omitted in a demonstration of this kind. It is a name associated with the most beautiful invention ever made: it is Crookes'"
      ]
     },
     "execution_count": 25,
     "metadata": {},
     "output_type": "execute_result"
    }
   ],
   "source": [
    "last_msg.content[0].text.annotations[0].file_citation.quote"
   ]
  }
 ],
 "metadata": {
  "kernelspec": {
   "display_name": "base",
   "language": "python",
   "name": "python3"
  },
  "language_info": {
   "codemirror_mode": {
    "name": "ipython",
    "version": 3
   },
   "file_extension": ".py",
   "mimetype": "text/x-python",
   "name": "python",
   "nbconvert_exporter": "python",
   "pygments_lexer": "ipython3",
   "version": "3.10.9"
  }
 },
 "nbformat": 4,
 "nbformat_minor": 2
}
