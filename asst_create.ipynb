{
 "cells": [
  {
   "cell_type": "code",
   "execution_count": null,
   "metadata": {},
   "outputs": [],
   "source": [
    "## Upload files to OpenAI\n",
    "\n",
    "from openai import OpenAI\n",
    "client = OpenAI()\n",
    "import time\n",
    "import os\n",
    "import glob\n",
    "\n",
    "stop = True\n",
    "for filename in [os.path.abspath(f) for f in glob.iglob('./docx_docs/**/*', recursive=True)]:\n",
    "    if \".docx\" in filename:\n",
    "        print(filename)\n",
    "        time.sleep(1)\n",
    "        file = client.files.create(\n",
    "            file=open(filename, \"rb\"),\n",
    "            purpose='assistants'\n",
    "        )\n"
   ]
  },
  {
   "cell_type": "code",
   "execution_count": null,
   "metadata": {},
   "outputs": [],
   "source": [
    "# Fetch file names\n",
    "\n",
    "from openai import OpenAI\n",
    "import json\n",
    "client = OpenAI()\n",
    "\n",
    "!rm files.json\n",
    "!curl https://api.openai.com/v1/files -H \"Authorization: Bearer $OPENAI_API_KEY\" >> files.json\n",
    "json_file = json.load(open('files.json'))\n",
    "\n",
    "print(json_file['data'])"
   ]
  },
  {
   "cell_type": "code",
   "execution_count": 99,
   "metadata": {},
   "outputs": [],
   "source": [
    "# Assistant fetching helper function\n",
    "\n",
    "from helper import all_assistants\n",
    "\n",
    "my_assistants = all_assistants()"
   ]
  },
  {
   "cell_type": "code",
   "execution_count": null,
   "metadata": {},
   "outputs": [],
   "source": [
    "# Remove all assistants from OpenAI\n",
    "\n",
    "for asst in my_assistants:\n",
    "    response = client.beta.assistants.delete(asst.id)\n",
    "    print(response)\n",
    "    time.sleep(0.1)"
   ]
  },
  {
   "cell_type": "code",
   "execution_count": null,
   "metadata": {},
   "outputs": [],
   "source": [
    "# Assistant creation\n",
    "\n",
    "asst_file = []\n",
    "for file in json_file['data']:\n",
    "    if file['filename'].split('.')[-1] == 'docx':\n",
    "        id = file['id'].split('-')[-1]\n",
    "        print(file['id'])\n",
    "        assistant = client.beta.assistants.create(\n",
    "            name=f\"assistant-{id}\",\n",
    "            instructions=\"\"\"You are a chatbot that answers questions about a document written by Nikola Tesla. You can summarize the document or answer questions about it, if you do not know the answer reply \"I'm sorry, I don't know the answer.\", don't try to make up something.\"\"\",\n",
    "            model=\"gpt-3.5-turbo-1106\",\n",
    "            tools=[{\"type\": \"retrieval\"}],\n",
    "            file_ids=[file['id']]\n",
    "        )\n",
    "        print({'assistant_id': assistant.id, 'file_id': file['id']})\n",
    "        asst_file.append({'assistant_id': assistant.id, 'file_id': file['id']})\n",
    "        # Save asst id and file id in dict\n",
    "        time.sleep(0.1)"
   ]
  },
  {
   "cell_type": "code",
   "execution_count": 80,
   "metadata": {},
   "outputs": [],
   "source": [
    "import json\n",
    "with open('asst_file.json', 'w') as f:\n",
    "    json.dump(asst_file, f)"
   ]
  },
  {
   "cell_type": "code",
   "execution_count": 54,
   "metadata": {},
   "outputs": [],
   "source": [
    "from openai import OpenAI\n",
    "client = OpenAI()\n",
    "\n",
    "a = client.files.list()"
   ]
  },
  {
   "cell_type": "code",
   "execution_count": 58,
   "metadata": {},
   "outputs": [],
   "source": [
    "docx_files = [file for file in a.data if file.filename.split(\".\")[-1] == \"docx\"]"
   ]
  },
  {
   "cell_type": "code",
   "execution_count": 60,
   "metadata": {},
   "outputs": [
    {
     "data": {
      "text/plain": [
       "359"
      ]
     },
     "execution_count": 60,
     "metadata": {},
     "output_type": "execute_result"
    }
   ],
   "source": [
    "len(docx_files)"
   ]
  },
  {
   "cell_type": "code",
   "execution_count": null,
   "metadata": {},
   "outputs": [],
   "source": [
    "# Metadata ssistant creation\n",
    "\n",
    "from openai import OpenAI\n",
    "client = OpenAI()\n",
    "\n",
    "file = client.files.create(\n",
    "    file=open('metadata.json', \"rb\"),\n",
    "    purpose='assistants'\n",
    ")\n",
    "\n",
    "assistant = client.beta.assistants.create(\n",
    "    name=f\"assistant-metadata\",\n",
    "    instructions=\"\"\"You are a chatbot that answers questions about a json document that contains data about lectures, patents and articles writen by Nikola Tesla. 'type' field of the data entry tells what type of document it is, 'date' when it was written, 'source' is the source in case of articles and 'register_num' is the patent regustration number. If you do not have the data to answer answer reply \"I'm sorry, I don't know the answer.\", don't try to make up something.\"\"\",\n",
    "    model=\"gpt-3.5-turbo-1106\",\n",
    "    tools=[{\"type\": \"retrieval\"}],\n",
    "    file_ids=[file.id]\n",
    ")"
   ]
  }
 ],
 "metadata": {
  "kernelspec": {
   "display_name": "base",
   "language": "python",
   "name": "python3"
  },
  "language_info": {
   "codemirror_mode": {
    "name": "ipython",
    "version": 3
   },
   "file_extension": ".py",
   "mimetype": "text/x-python",
   "name": "python",
   "nbconvert_exporter": "python",
   "pygments_lexer": "ipython3",
   "version": "3.10.9"
  }
 },
 "nbformat": 4,
 "nbformat_minor": 2
}
